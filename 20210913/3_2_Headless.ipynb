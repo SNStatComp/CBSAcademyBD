{
 "cells": [
  {
   "cell_type": "markdown",
   "metadata": {},
   "source": [
    "## Headless scraping using Selenium"
   ]
  },
  {
   "cell_type": "code",
   "execution_count": null,
   "metadata": {},
   "outputs": [],
   "source": [
    "# Install Selenium (needs to be executed only once)\n",
    "!pip install selenium\n",
    "\n",
    "# Download the selenium driver for your browser and machine from\n",
    "#         https://selenium-python.readthedocs.io/installation.html#drivers\n",
    "# and add it to this local folder:\n",
    "import os\n",
    "import sys\n",
    "os.path.dirname(sys.executable)"
   ]
  },
  {
   "cell_type": "code",
   "execution_count": null,
   "metadata": {},
   "outputs": [],
   "source": [
    "# Imports:\n",
    "import time                      # for sleeping between multiple requests\n",
    "from selenium import webdriver"
   ]
  },
  {
   "cell_type": "code",
   "execution_count": null,
   "metadata": {},
   "outputs": [],
   "source": [
    "#### Documentation:\n",
    "- [Requests.py](http://docs.python-requests.org)\n",
    "- [Beautifulsoup.py](https://www.crummy.com/software/BeautifulSoup/bs4/doc/)\n",
    "- [Selenium with python](https://selenium-python.readthedocs.io/)\n",
    "- [Locating elements](https://selenium-python.readthedocs.io/locating-elements.html#locating-elements)"
   ]
  },
  {
   "cell_type": "markdown",
   "metadata": {},
   "source": [
    "## Headless request to price list (Chrome):"
   ]
  },
  {
   "cell_type": "code",
   "execution_count": null,
   "metadata": {},
   "outputs": [],
   "source": [
    "options = webdriver.ChromeOptions()\n",
    "options.headless = True\n",
    "options.add_argument('user-agent=scrapingCourseBot')\n",
    "\n",
    "browser = webdriver.Chrome(options=options)\n",
    "browser.get('http://testing-ground.webscraping.pro/price-list-1.html')\n",
    "\n",
    "# Retrieve first item name:\n",
    "elem = browser.find_element_by_css_selector('div.name')\n",
    "print(elem.text)\n",
    "\n",
    "browser.close()"
   ]
  },
  {
   "cell_type": "markdown",
   "metadata": {},
   "source": [
    "## Headless request to price list (Firefox):"
   ]
  },
  {
   "cell_type": "code",
   "execution_count": null,
   "metadata": {},
   "outputs": [],
   "source": [
    "from selenium.webdriver.firefox.options import Options\n",
    "profile = webdriver.FirefoxProfile()\n",
    "profile.set_preference(\"general.useragent.override\", \"scrapingCourseBot\")\n",
    "\n",
    "options = Options()\n",
    "options.headless = True\n",
    "\n",
    "browser = webdriver.Firefox(profile, options=options)\n",
    "browser.get('http://testing-ground.webscraping.pro/price-list-1.html')\n",
    "\n",
    "# Retrieve first item name:\n",
    "elem = browser.find_element_by_css_selector('div.name')\n",
    "print(elem.text)\n",
    "\n",
    "browser.close()"
   ]
  },
  {
   "cell_type": "markdown",
   "metadata": {},
   "source": [
    "## Headless getting Olympic winter games (Chrome): "
   ]
  },
  {
   "cell_type": "code",
   "execution_count": null,
   "metadata": {},
   "outputs": [],
   "source": [
    "options = webdriver.ChromeOptions()\n",
    "options.headless = True\n",
    "options.add_argument('user-agent=scrapingCourseBot')\n",
    "\n",
    "browser = webdriver.Chrome(options=options)\n",
    "browser.get('https://olympics.com/en/sports/winter-olympics')\n",
    "\n",
    "# Retrieve first item name:\n",
    "elements = browser.find_elements_by_css_selector('div.-sportlist h1.article--title')\n",
    "for e in elements:\n",
    "    print(e.text)\n",
    "\n",
    "browser.close()"
   ]
  }
 ],
 "metadata": {
  "kernelspec": {
   "display_name": "Python 3",
   "language": "python",
   "name": "python3"
  },
  "language_info": {
   "codemirror_mode": {
    "name": "ipython",
    "version": 3
   },
   "file_extension": ".py",
   "mimetype": "text/x-python",
   "name": "python",
   "nbconvert_exporter": "python",
   "pygments_lexer": "ipython3",
   "version": "3.8.5"
  }
 },
 "nbformat": 4,
 "nbformat_minor": 4
}
