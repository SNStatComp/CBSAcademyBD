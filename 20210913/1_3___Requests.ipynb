{
 "cells": [
  {
   "cell_type": "markdown",
   "metadata": {},
   "source": [
    "# Course on webscraping\n",
    "\n",
    "*By Olav ten Bosch, Darius Keijdener, Dick Windmeijer*"
   ]
  },
  {
   "cell_type": "code",
   "execution_count": null,
   "metadata": {},
   "outputs": [],
   "source": [
    "# Imports:\n",
    "import requests                     # for issueing HTTP requests\n",
    "from bs4 import BeautifulSoup       # for parsing and navigating HTML results\n",
    "import time                         # for sleeping between multiple requests\n",
    "\n",
    "# Not related to webscraping\n",
    "from IPython.display import Image   # for viewing images in a python notebook"
   ]
  },
  {
   "cell_type": "markdown",
   "metadata": {},
   "source": [
    "#### Documentation:\n",
    "- [Requests.py](http://docs.python-requests.org)"
   ]
  },
  {
   "cell_type": "markdown",
   "metadata": {},
   "source": [
    "### Request, headers, user-agent, parameters, sleeping:"
   ]
  },
  {
   "cell_type": "code",
   "execution_count": null,
   "metadata": {},
   "outputs": [],
   "source": [
    "# Retrieving home page of Statistics Netherlands:\n",
    "r1 = requests.get('https://www.cbs.nl/en-gb')\n",
    "\n",
    "#r1.headers['content-type']\n",
    "print(r1.status_code, r1.headers['content-type'], r1.encoding)\n",
    "#print(r1.headers)\n",
    "#print(r1.text)"
   ]
  },
  {
   "cell_type": "code",
   "execution_count": null,
   "metadata": {},
   "outputs": [],
   "source": [
    "# Retrieving home page of Statistics Netherlands with user-agent string:\n",
    "headers = {'user-agent': 'scrapingCourseBot'}\n",
    "r2 = requests.get('https://www.cbs.nl/en-gb', headers=headers)\n",
    "\n",
    "# Headers of the request:\n",
    "print(r2.request.headers)\n",
    "\n",
    "# Headers of the response:\n",
    "print(r2.headers)"
   ]
  },
  {
   "cell_type": "code",
   "execution_count": null,
   "metadata": {},
   "outputs": [],
   "source": [
    "# Issue a request with parameters:\n",
    "pars = {'products': 2, 'years': 2}\n",
    "r3 = requests.get('http://testing-ground.webscraping.pro/table-middle.html?', params=pars, headers=headers)        \n",
    "print(r3.url)\n",
    "#print(r3.text)"
   ]
  },
  {
   "cell_type": "code",
   "execution_count": null,
   "metadata": {},
   "outputs": [],
   "source": [
    "# In a loop, always add some idle time (time.sleep) to not overload server:\n",
    "for products in range(1, 4):\n",
    "    for years in range(1, 3):\n",
    "        pars = {'products': products, 'years': years}\n",
    "        r4 = requests.get('http://testing-ground.webscraping.pro/table-middle.html?', params=pars, headers=headers)\n",
    "        print(r4.url, r4.status_code)\n",
    "        time.sleep(1)"
   ]
  },
  {
   "cell_type": "code",
   "execution_count": null,
   "metadata": {},
   "outputs": [],
   "source": [
    "# We can also querry other types of files\n",
    "r5 = requests.get(\"http://testing-ground.webscraping.pro/img/logo.png\", headers=headers)\n",
    "r5.text"
   ]
  },
  {
   "cell_type": "code",
   "execution_count": null,
   "metadata": {},
   "outputs": [],
   "source": [
    "# This is not just text.\n",
    "r5.content"
   ]
  },
  {
   "cell_type": "code",
   "execution_count": null,
   "metadata": {},
   "outputs": [],
   "source": [
    "# The .content attribute returns a binary string, which can be interpreted by other functions.\n",
    "Image(r5.content)"
   ]
  },
  {
   "cell_type": "code",
   "execution_count": null,
   "metadata": {},
   "outputs": [],
   "source": [
    "r6 = requests.get(\"https://www.cbs.nl/-/media/_excel/2021/34/tozo_reg_2021_juni.xls\", headers=headers)\n",
    "r6.text"
   ]
  },
  {
   "cell_type": "code",
   "execution_count": null,
   "metadata": {},
   "outputs": [],
   "source": [
    "# Note that we write the binary. If you are merely writinng text, save respons.text and omit the \"b\" option.\n",
    "# Always be mindfull when you download and save files, especially in binary!\n",
    "if r6.status_code == 200:\n",
    "    with open(\"bestand_tozo.xls\", \"wb\") as file:\n",
    "        file.write(r6.content)"
   ]
  },
  {
   "cell_type": "code",
   "execution_count": null,
   "metadata": {},
   "outputs": [],
   "source": [
    "# This works only if you are running this locally, pandas is not installed in the binder machines\n",
    "import pandas as pd\n",
    "pd.read_excel(\"bestand_tozo.xls\")"
   ]
  }
 ],
 "metadata": {
  "kernelspec": {
   "display_name": "Python 3",
   "language": "python",
   "name": "python3"
  },
  "language_info": {
   "codemirror_mode": {
    "name": "ipython",
    "version": 3
   },
   "file_extension": ".py",
   "mimetype": "text/x-python",
   "name": "python",
   "nbconvert_exporter": "python",
   "pygments_lexer": "ipython3",
   "version": "3.8.5"
  }
 },
 "nbformat": 4,
 "nbformat_minor": 2
}
