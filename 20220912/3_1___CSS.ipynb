{
 "cells": [
  {
   "cell_type": "markdown",
   "metadata": {},
   "source": [
    "# Course on webscraping\n",
    "\n",
    "*By Olav ten Bosch, Darius Keijdener, Dick Windmeijer*"
   ]
  },
  {
   "cell_type": "code",
   "execution_count": 2,
   "metadata": {},
   "outputs": [],
   "source": [
    "# Imports:\n",
    "import requests                  # for issueing HTTP requests\n",
    "from bs4 import BeautifulSoup    # for parsing and navigating HTML results\n",
    "import time                      # for sleeping between multiple requests\n",
    "headers = {'user-agent': 'scrapingCourseBot'}"
   ]
  },
  {
   "cell_type": "markdown",
   "metadata": {},
   "source": [
    "#### Documentation:\n",
    "- [Requests.py](https://requests.readthedocs.io)\n",
    "- [Beautifulsoup.py](https://www.crummy.com/software/BeautifulSoup/bs4/doc/)\n",
    "- [CSS selectors](https://www.w3schools.com/cssref/css_selectors.asp)"
   ]
  },
  {
   "cell_type": "markdown",
   "metadata": {},
   "source": [
    "### Soup with CSS selectors: (select):"
   ]
  },
  {
   "cell_type": "code",
   "execution_count": 3,
   "metadata": {},
   "outputs": [
    {
     "name": "stdout",
     "output_type": "stream",
     "text": [
      "https://www.cbs.nl/en-gb 200\n"
     ]
    }
   ],
   "source": [
    "# Get page in soup:\n",
    "r5 = requests.get('https://www.cbs.nl/en-gb', headers=headers)\n",
    "print(r5.url, r5.status_code)\n",
    "soup = BeautifulSoup(r5.text, 'lxml')"
   ]
  },
  {
   "cell_type": "code",
   "execution_count": 4,
   "metadata": {},
   "outputs": [
    {
     "name": "stdout",
     "output_type": "stream",
     "text": [
      "[<h2 class=\"teaser-header mt-3\">Household consumption over 5 percent up in June</h2>, <h2 class=\"sr-only\">Recent news</h2>, <h2>Expected</h2>, <h2>Featured</h2>, <h2>CBS video</h2>, <h2 class=\"title\">Services</h2>, <h2 class=\"title\">About us</h2>, <h2 class=\"title\">About this site</h2>, <h2 class=\"sr-only\">Follow Statistics Netherlands</h2>]\n",
      "\n",
      "[<h3>Economic growth 2.6 percent in Q2 2022</h3>, <h3>Exports up by almost 4 percent in June</h3>, <h3>Business confidence down as of Q3</h3>, <h3>Fewer bankruptcies in July </h3>, <h3>Manufacturing output over 6 percent up in June</h3>, <h3>Aviation not yet at 2019 level in Q2</h3>, <h3>Excess mortality in all weeks of July</h3>, <h3>Inflation rate up to 10.3 percent in July</h3>, <h3>Population up by nearly 120 thousand in first half of 2022</h3>, <h3>More asylum applications in Q2 2022</h3>, <h3>Economic outlook virtually unchanged</h3>, <h3>HICP 11.6 percent higher in July</h3>, <h3>Labour market</h3>, <h3>Consumer confidence</h3>, <h3>House prices</h3>, <h3>Investments</h3>, <h3 class=\"title\">Population forecast.</h3>]\n"
     ]
    }
   ],
   "source": [
    "# Find all elements with a tag:\n",
    "\n",
    "# find_all:\n",
    "#print(soup.find_all(\"h2\"))\n",
    "#print(\"\")\n",
    "#print(soup.find_all(\"h3\"))\n",
    "\n",
    "#CSS:\n",
    "print(soup.select(\"h2\"))\n",
    "print(\"\")\n",
    "print(soup.select(\"h3\"))"
   ]
  },
  {
   "cell_type": "code",
   "execution_count": 5,
   "metadata": {},
   "outputs": [
    {
     "name": "stdout",
     "output_type": "stream",
     "text": [
      "[<a class=\"thumbnail row\" href=\"https://www.cbs.nl/en-gb/news/2022/33/economic-growth-2-6-percent-in-q2-2022\">\n",
      "<div class=\"col-4 col-lg-12 pr-0\">\n",
      "<div class=\"cbs-image-container\">\n",
      "<svg version=\"1.1\" viewbox=\"0 0 600 400\" width=\"100%\" xmlns=\"http://www.w3.org/2000/svg\" xmlns:xlink=\"http://www.w3.org/1999/xlink\"><defs><!-- --></defs><g><rect fill=\"#d9328a\" height=\"400\" stroke=\"none\" width=\"600\" x=\"0\" y=\"0\"></rect></g><g></g><g><g><text fill=\"#FFF\" font-family=\"Akko, Akko W01 Regular\" font-size=\"70\" font-weight=\"500\" text-anchor=\"end\" x=\"561\" y=\"257\"><tspan>+</tspan><tspan class=\"chart-banner-number-wylZboUYXT\" data-number=\"2\">2</tspan><tspan>.</tspan><tspan class=\"chart-banner-number-wylZboUYXT\" data-number=\"6\">6</tspan><tspan>%</tspan></text></g></g><g><g opacity=\"1\"><svg preserveaspectratio=\"xMinYMin\" viewbox=\"0 0 1000 1000\" width=\"280\" x=\"70\" xmlns=\"http://www.w3.org/2000/svg\" y=\"70\"><defs><style></style></defs><path d=\"M47.05,927.27c-14.12,0-20.1,0-20.1-13.41V877.39c0-13.4,6-14.88,17.88-14.88h61V572.2c0-21.59,5.2-23.82,24.55-32,14.9-6,102.75-38,107.19-38,11.93,0,17.13,6.7,17.13,24.57V862.51H362.67V593c0-20.84,5.21-23.07,24.58-31.26,14.89-5.95,102.7-38.71,107.18-38.71,11.19,0,17.11,6.7,17.11,25.31V862.51H618.73V479.15c0-17.87,6-23.07,25.32-31.27,14.9-5.95,102.73-38.7,107.19-38.7,11.15,0,17.13,6.7,17.13,25.31v428H955.2c11.92,0,17.85,1.48,17.85,14.88v36.47c0,13.41-5.93,13.41-20.1,13.41Zm733.22-734L565.91,380.89C550.24,394.29,543.54,398,536.84,398c-5.2,0-11.13-2.22-17.1-8.92l-89.31-100.5C113.31,428.53,123.72,424.81,112.57,429.28c-5.95,2.23-12.65,4.47-17.86,4.47-6,0-10.43-3-10.43-10.42V378.66c0-12.66,6-15.63,20.09-21.59L437.13,209.68c4.43-1.48,9.66-3,12.63-3,6.7,0,11.9,6,14.89,9.67l78.17,93.05L737.09,141.21,710.3,108.45c-4.46-5.2-7.42-9.67-7.42-14.14,0-3,1.46-6,5.92-8.93,6-5.22,15.64-5.22,23.09-5.95,29-1.5,90.07-6.7,105.69-6.7,18.62,0,23.08.73,27.57,6,3,3,3.71,7.45,3.71,12.65s-2.25,14.89-29,118.35c-1.47,6.7-5.21,18.62-9.66,22.34-3.74,3-6.7,3.72-8.94,3.72-4.46,0-8.2-3-13.4-8.94Z\" fill=\"#FFF\" stroke=\"none\" stroke-miterlimit=\"10\"></path></svg></g></g><g></g><!-- --><!-- --><!-- --><g></g></svg>\n",
      "</div>\n",
      "</div>\n",
      "<div class=\"col-8 col-lg-12 pl-3 pr-0\">\n",
      "<div class=\"caption mt-lg-2\">\n",
      "<h3>Economic growth 2.6 percent in Q2 2022</h3>\n",
      "<p><span class=\"date\"><time datetime=\"2022-08-17T13:00:00+00:00\">17/08/2022 15:00</time></span></p>\n",
      "</div>\n",
      "</div>\n",
      "</a>, <a class=\"thumbnail row\" href=\"https://www.cbs.nl/en-gb/news/2022/33/exports-up-by-almost-4-percent-in-june\">\n",
      "<div class=\"col-4 col-lg-12 pr-0\">\n",
      "<div class=\"cbs-image-container\">\n",
      "<svg version=\"1.1\" viewbox=\"0 0 600 400\" width=\"100%\" xmlns=\"http://www.w3.org/2000/svg\" xmlns:xlink=\"http://www.w3.org/1999/xlink\"><defs><!-- --></defs><g><rect fill=\"#00a1cd\" height=\"400\" stroke=\"none\" width=\"600\" x=\"0\" y=\"0\"></rect></g><g></g><g><g><text fill=\"#FFF\" font-family=\"Akko, Akko W01 Regular\" font-size=\"70\" font-weight=\"500\" text-anchor=\"end\" x=\"388\" y=\"139\"><tspan>+</tspan><tspan class=\"chart-banner-number-wylZboUYXT\" data-number=\"3\">3</tspan><tspan>.</tspan><tspan class=\"chart-banner-number-wylZboUYXT\" data-number=\"8\">8</tspan><tspan>%</tspan></text></g></g><g><g opacity=\"1\"><svg fill=\"none\" preserveaspectratio=\"xMinYMin\" viewbox=\"0 0 1000 1000\" width=\"438\" x=\"99\" xmlns=\"http://www.w3.org/2000/svg\" y=\"-38\">\n",
      "<path d=\"M47.5215 704.855H165.47L165.812 696.991C166.154 689.812 169.573 685.026 178.804 685.026H229.744C238.633 685.026 244.103 688.103 244.445 696.991L244.786 704.855H362.051C379.145 704.855 393.163 749.299 393.163 795.795C393.163 841.949 379.145 885.368 362.051 885.368H47.5215C30.4275 885.368 16.4104 841.949 16.4104 795.795C16.4104 749.299 30.4275 704.855 47.5215 704.855ZM974.701 841.265C982.906 841.265 983.59 843.316 983.59 850.838V876.137C983.59 884 982.906 885.368 974.701 885.368H422.906C414.701 885.368 414.017 884 414.017 876.137V850.838C414.017 843.316 414.701 841.265 422.906 841.265H427.692L415.385 788.274C414.359 784.855 416.41 781.436 419.487 780.068L452.992 769.47L439.658 723.658C439.316 722.632 438.975 720.581 440 718.872L443.419 710.325C444.445 707.59 446.838 705.538 449.915 705.538H947.692C950.428 705.538 953.163 707.59 954.188 710.325L957.607 718.872C958.291 720.239 958.291 721.949 957.949 723.658L944.274 769.47L978.12 780.068C981.197 781.436 983.248 784.855 982.222 788.274L969.915 841.265H974.701ZM522.393 767.761V731.179C522.393 729.47 521.026 728.103 519.316 728.103H484.445C482.735 728.103 481.368 729.47 481.368 731.179V767.761C481.368 769.47 482.735 770.838 484.445 770.838H519.316C521.026 770.838 522.393 769.47 522.393 767.761ZM915.898 767.761V731.179C915.898 729.47 914.53 728.103 913.163 728.103H878.291C876.581 728.103 875.214 729.47 875.214 731.179V767.761C875.214 769.47 876.581 770.838 878.291 770.838H913.163C914.53 770.838 915.898 769.47 915.898 767.761ZM972.992 983.487H41.3677C34.8719 983.487 32.1369 983.487 32.1369 977.333V960.581C32.1369 954.427 34.8719 953.744 40.342 953.744H974.017C979.487 953.744 982.222 954.427 982.222 960.581V977.333C982.222 983.487 979.487 983.487 972.992 983.487ZM869.06 900.752H942.564C942.564 920.923 925.128 937.333 905.299 937.333C889.231 937.333 871.795 922.291 869.06 900.752ZM754.53 900.752H828.034C828.034 920.923 810.598 937.333 790.769 937.333C774.359 937.333 757.265 922.291 754.53 900.752ZM568.205 900.752H641.71C641.71 920.923 624.274 937.333 604.445 937.333C588.376 937.333 570.94 922.291 568.205 900.752ZM453.675 900.752H527.18C527.18 920.923 509.744 937.333 489.915 937.333C473.504 937.333 456.41 922.291 453.675 900.752ZM267.351 900.752H340.855C340.855 920.923 323.419 937.333 303.59 937.333C287.522 937.333 270.086 922.291 267.351 900.752ZM63.9318 900.752H137.436C137.436 920.923 120 937.333 100.171 937.333C83.7608 937.333 66.6668 922.291 63.9318 900.752ZM605.128 584.171L660.855 627.932C663.248 629.983 665.299 631.692 665.299 634.427C665.299 636.821 663.248 639.214 660.855 640.923L605.128 684.684C604.786 685.026 600.684 688.444 598.291 688.444C595.898 688.444 592.821 686.051 591.111 684.684L535.043 640.923C532.65 639.214 530.598 636.821 530.598 634.427C530.598 631.692 532.65 629.983 535.043 627.932L591.111 584.171C592.821 582.803 595.898 580.41 598.291 580.41C600.684 580.41 604.786 583.829 605.128 584.171ZM642.393 634.427L598.291 599.556L553.504 634.427L598.291 668.957L642.393 634.427Z\" fill=\"#FFF\" stroke=\"none\" stroke-miterlimit=\"10\"></path>\n",
      "</svg></g></g><g></g><!-- --><!-- --><!-- --><g></g></svg>\n",
      "</div>\n",
      "</div>\n",
      "<div class=\"col-8 col-lg-12 pl-3 pr-0\">\n",
      "<div class=\"caption mt-lg-2\">\n",
      "<h3>Exports up by almost 4 percent in June</h3>\n",
      "<p><span class=\"date\"><time datetime=\"2022-08-17T13:00:00+00:00\">17/08/2022 15:00</time></span></p>\n",
      "</div>\n",
      "</div>\n",
      "</a>, <a class=\"thumbnail row\" href=\"https://www.cbs.nl/en-gb/news/2022/33/business-confidence-down-as-of-q3\">\n",
      "<div class=\"col-4 col-lg-12 pr-0\">\n",
      "<div class=\"cbs-image-container\">\n",
      "<img alt=\"Store selling vegetables\" class=\"lazy img-fluid\" data-src=\"https://cdn.cbs.nl/images/354f666b697a654564454f716354324f426b387655773d3d/294x196.jpg\" src=\"/Content/images/placeholder.jpg\" title=\"\"/>\n",
      "<noscript>\n",
      "<img alt=\"Store selling vegetables\" class=\"img-fluid\" src=\"https://cdn.cbs.nl/images/354f666b697a654564454f716354324f426b387655773d3d/294x196.jpg\"/>\n",
      "</noscript>\n",
      "</div>\n",
      "</div>\n",
      "<div class=\"col-8 col-lg-12 pl-3 pr-0\">\n",
      "<div class=\"caption mt-lg-2\">\n",
      "<h3>Business confidence down as of Q3</h3>\n",
      "<p><span class=\"date\"><time datetime=\"2022-08-15T13:00:00+00:00\">15/08/2022 15:00</time></span></p>\n",
      "</div>\n",
      "</div>\n",
      "</a>, <a class=\"thumbnail row\" href=\"https://www.cbs.nl/en-gb/news/2022/32/fewer-bankruptcies-in-july\">\n",
      "<div class=\"col-4 col-lg-12 pr-0\">\n",
      "<div class=\"cbs-image-container\">\n",
      "<img alt=\"\" class=\"lazy img-fluid\" data-src=\"https://cdn.cbs.nl/images/77464f4f794967464f772b6f6d4b6b567474677a61413d3d/294x196.jpg\" src=\"/Content/images/placeholder.jpg\" title=\"\"/>\n",
      "<noscript>\n",
      "<img alt=\"\" class=\"img-fluid\" src=\"https://cdn.cbs.nl/images/77464f4f794967464f772b6f6d4b6b567474677a61413d3d/294x196.jpg\"/>\n",
      "</noscript>\n",
      "</div>\n",
      "</div>\n",
      "<div class=\"col-8 col-lg-12 pl-3 pr-0\">\n",
      "<div class=\"caption mt-lg-2\">\n",
      "<h3>Fewer bankruptcies in July </h3>\n",
      "<p><span class=\"date\"><time datetime=\"2022-08-12T13:00:00+00:00\">12/08/2022 15:00</time></span></p>\n",
      "</div>\n",
      "</div>\n",
      "</a>, <a class=\"thumbnail row\" href=\"https://www.cbs.nl/en-gb/news/2022/32/manufacturing-output-over-6-percent-up-in-june\">\n",
      "<div class=\"col-4 col-lg-12 pr-0\">\n",
      "<div class=\"cbs-image-container\">\n",
      "<svg version=\"1.1\" viewbox=\"0 0 600 400\" width=\"100%\" xmlns=\"http://www.w3.org/2000/svg\" xmlns:xlink=\"http://www.w3.org/1999/xlink\"><defs><!-- --></defs><g><rect fill=\"#2581c4\" height=\"400\" stroke=\"none\" width=\"600\" x=\"0\" y=\"0\"></rect></g><g></g><g><g><text fill=\"#FFF\" font-family=\"Akko, Akko W01 Regular\" font-size=\"70\" font-weight=\"500\" text-anchor=\"end\" x=\"233\" y=\"260\"><tspan>+</tspan><tspan class=\"chart-banner-number-ZOyffeFLGb\" data-number=\"6\">6</tspan><tspan>.</tspan><tspan class=\"chart-banner-number-ZOyffeFLGb\" data-number=\"2\">2</tspan><tspan>%</tspan></text></g></g><g><g opacity=\"1\"><svg data-name=\"2A\" preserveaspectratio=\"xMinYMin\" viewbox=\"0 0 1000 1000\" width=\"293\" x=\"264.5\" xmlns=\"http://www.w3.org/2000/svg\" y=\"56\"><defs><style></style></defs><path d=\"M58.09,967.77c-8.3,0-11.75,0-11.75-6.92,0-3.45,1.38-8.29,4.84-18.67C62.93,911.06,74,873,83,843.29c47.72-151.45,65-361,83-442.6,1.38-8.3,4.84-13.83,16.59-13.83,51.18,0,136.24,18,163.9,30.43,9.69,4.14,11.07,10.37,11.76,14.52l9,63.62c11.76,83,18.67,152.15,31.81,233.75,5.54,32.5,32.5,141.77,53.25,228.22a37.15,37.15,0,0,1,.69,5.53c0,4.15-3.45,4.84-11.75,4.84ZM125.87,83.26c62.93,73.31,165.28,133.47,266.94,133.47,39.42,0,74-12.45,110.65-12.45,83,0,132.78,58.1,143.15,58.1,2.77,0,24.21-84.38,24.21-101.66,0-58.1-10.38-115.5-148.69-115.5-43.57,0-136.93,25.59-195.71,25.59-76.07,0-154.91-20.74-201.25-34.58-1.38-.69-9-2.07-10.37-2.07-7.61,0-11.76,2.77-11.76,8.3C103,54.22,119.64,75.65,125.87,83.26ZM483.4,943.56c6.23,24.21,8.3,24.21,33.89,24.21H917.7c33.89,0,36-20.75,36-47V746.47c0-26.28-3.45-47-36-47H671.51V350.9c0-26.28,0-32.51-25.59-32.51H622.41c-25.59,0-25.59,6.23-25.59,32.51V699.44H459.89c-20.06,0-28.36,7.61-28.36,20.75C431.53,734,459.89,845.36,483.4,943.56Z\" fill=\"#FFF\" stroke=\"none\" stroke-miterlimit=\"10\"></path></svg></g></g><g></g><!-- --><!-- --><!-- --><g></g></svg>\n",
      "</div>\n",
      "</div>\n",
      "<div class=\"col-8 col-lg-12 pl-3 pr-0\">\n",
      "<div class=\"caption mt-lg-2\">\n",
      "<h3>Manufacturing output over 6 percent up in June</h3>\n",
      "<p><span class=\"date\"><time datetime=\"2022-08-10T13:00:00+00:00\">10/08/2022 15:00</time></span></p>\n",
      "</div>\n",
      "</div>\n",
      "</a>, <a class=\"thumbnail row\" href=\"https://www.cbs.nl/en-gb/news/2022/31/aviation-not-yet-at-2019-level-in-q2\">\n",
      "<div class=\"col-4 col-lg-12 pr-0\">\n",
      "<div class=\"cbs-image-container\">\n",
      "<img alt=\"Passengers checking in at the airport\" class=\"lazy img-fluid\" data-src=\"https://cdn.cbs.nl/images/2b564958346d544d47494d76562b58344772534276413d3d/294x196.jpg\" src=\"/Content/images/placeholder.jpg\" title=\"\"/>\n",
      "<noscript>\n",
      "<img alt=\"Passengers checking in at the airport\" class=\"img-fluid\" src=\"https://cdn.cbs.nl/images/2b564958346d544d47494d76562b58344772534276413d3d/294x196.jpg\"/>\n",
      "</noscript>\n",
      "</div>\n",
      "</div>\n",
      "<div class=\"col-8 col-lg-12 pl-3 pr-0\">\n",
      "<div class=\"caption mt-lg-2\">\n",
      "<h3>Aviation not yet at 2019 level in Q2</h3>\n",
      "<p><span class=\"date\"><time datetime=\"2022-08-05T13:00:00+00:00\">05/08/2022 15:00</time></span></p>\n",
      "</div>\n",
      "</div>\n",
      "</a>, <a class=\"thumbnail row\" href=\"https://www.cbs.nl/en-gb/news/2022/31/excess-mortality-in-all-weeks-of-july\">\n",
      "<div class=\"col-4 col-lg-12 pr-0\">\n",
      "<div class=\"cbs-image-container\">\n",
      "<img alt=\"\" class=\"lazy img-fluid\" data-src=\"https://cdn.cbs.nl/images/4a5979325154416d7a415830387a4b32554350544e673d3d/294x196.jpg\" src=\"/Content/images/placeholder.jpg\" title=\"\"/>\n",
      "<noscript>\n",
      "<img alt=\"\" class=\"img-fluid\" src=\"https://cdn.cbs.nl/images/4a5979325154416d7a415830387a4b32554350544e673d3d/294x196.jpg\"/>\n",
      "</noscript>\n",
      "</div>\n",
      "</div>\n",
      "<div class=\"col-8 col-lg-12 pl-3 pr-0\">\n",
      "<div class=\"caption mt-lg-2\">\n",
      "<h3>Excess mortality in all weeks of July</h3>\n",
      "<p><span class=\"date\"><time datetime=\"2022-08-05T13:00:00+00:00\">05/08/2022 15:00</time></span></p>\n",
      "</div>\n",
      "</div>\n",
      "</a>, <a class=\"thumbnail row\" href=\"https://www.cbs.nl/en-gb/news/2022/31/inflation-rate-up-to-10-3-percent-in-july\">\n",
      "<div class=\"col-4 col-lg-12 pr-0\">\n",
      "<div class=\"cbs-image-container\">\n",
      "<svg version=\"1.1\" viewbox=\"0 0 600 400\" width=\"100%\" xmlns=\"http://www.w3.org/2000/svg\" xmlns:xlink=\"http://www.w3.org/1999/xlink\"><defs><!-- --></defs><g><rect fill=\"#e52329\" height=\"400\" stroke=\"none\" width=\"600\" x=\"0\" y=\"0\"></rect></g><g></g><g><g><text fill=\"#FFF\" font-family=\"Akko, Akko W01 Regular\" font-size=\"70\" font-weight=\"500\" text-anchor=\"end\" x=\"270\" y=\"240\"><tspan>+</tspan><tspan class=\"chart-banner-number-CHWUanPDNP\" data-number=\"10\">10</tspan><tspan>.</tspan><tspan class=\"chart-banner-number-CHWUanPDNP\" data-number=\"3\">3</tspan><tspan>%</tspan></text></g></g><g><g opacity=\"1\"><svg preserveaspectratio=\"xMinYMin\" viewbox=\"0 0 1000 1000\" width=\"230\" x=\"315\" xmlns=\"http://www.w3.org/2000/svg\" y=\"70\"><defs><style></style></defs><path d=\"M47.05,927.27c-14.12,0-20.1,0-20.1-13.41V877.39c0-13.4,6-14.88,17.88-14.88h61V572.2c0-21.59,5.2-23.82,24.55-32,14.9-6,102.75-38,107.19-38,11.93,0,17.13,6.7,17.13,24.57V862.51H362.67V593c0-20.84,5.21-23.07,24.58-31.26,14.89-5.95,102.7-38.71,107.18-38.71,11.19,0,17.11,6.7,17.11,25.31V862.51H618.73V479.15c0-17.87,6-23.07,25.32-31.27,14.9-5.95,102.73-38.7,107.19-38.7,11.15,0,17.13,6.7,17.13,25.31v428H955.2c11.92,0,17.85,1.48,17.85,14.88v36.47c0,13.41-5.93,13.41-20.1,13.41Zm733.22-734L565.91,380.89C550.24,394.29,543.54,398,536.84,398c-5.2,0-11.13-2.22-17.1-8.92l-89.31-100.5C113.31,428.53,123.72,424.81,112.57,429.28c-5.95,2.23-12.65,4.47-17.86,4.47-6,0-10.43-3-10.43-10.42V378.66c0-12.66,6-15.63,20.09-21.59L437.13,209.68c4.43-1.48,9.66-3,12.63-3,6.7,0,11.9,6,14.89,9.67l78.17,93.05L737.09,141.21,710.3,108.45c-4.46-5.2-7.42-9.67-7.42-14.14,0-3,1.46-6,5.92-8.93,6-5.22,15.64-5.22,23.09-5.95,29-1.5,90.07-6.7,105.69-6.7,18.62,0,23.08.73,27.57,6,3,3,3.71,7.45,3.71,12.65s-2.25,14.89-29,118.35c-1.47,6.7-5.21,18.62-9.66,22.34-3.74,3-6.7,3.72-8.94,3.72-4.46,0-8.2-3-13.4-8.94Z\" fill=\"#FFF\" stroke=\"none\" stroke-miterlimit=\"10\"></path></svg></g></g><g></g><!-- --><!-- --><!-- --><g></g></svg>\n",
      "</div>\n",
      "</div>\n",
      "<div class=\"col-8 col-lg-12 pl-3 pr-0\">\n",
      "<div class=\"caption mt-lg-2\">\n",
      "<h3>Inflation rate up to 10.3 percent in July</h3>\n",
      "<p><span class=\"date\"><time datetime=\"2022-08-04T13:00:00+00:00\">04/08/2022 15:00</time></span></p>\n",
      "</div>\n",
      "</div>\n",
      "</a>, <a class=\"thumbnail row\" href=\"https://www.cbs.nl/en-gb/news/2022/30/population-up-by-nearly-120-thousand-in-first-half-of-2022\">\n",
      "<div class=\"col-4 col-lg-12 pr-0\">\n",
      "<div class=\"cbs-image-container\">\n",
      "<img alt=\"People in the Vondelpark enjoying the sunshine\" class=\"lazy img-fluid\" data-src=\"https://cdn.cbs.nl/images/6f3936643949416d33336e724e7777385a566c6267413d3d/294x196.jpg\" src=\"/Content/images/placeholder.jpg\" title=\"\"/>\n",
      "<noscript>\n",
      "<img alt=\"People in the Vondelpark enjoying the sunshine\" class=\"img-fluid\" src=\"https://cdn.cbs.nl/images/6f3936643949416d33336e724e7777385a566c6267413d3d/294x196.jpg\"/>\n",
      "</noscript>\n",
      "</div>\n",
      "</div>\n",
      "<div class=\"col-8 col-lg-12 pl-3 pr-0\">\n",
      "<div class=\"caption mt-lg-2\">\n",
      "<h3>Population up by nearly 120 thousand in first half of 2022</h3>\n",
      "<p><span class=\"date\"><time datetime=\"2022-08-02T13:00:00+00:00\">02/08/2022 15:00</time></span></p>\n",
      "</div>\n",
      "</div>\n",
      "</a>, <a class=\"thumbnail row\" href=\"https://www.cbs.nl/en-gb/news/2022/30/more-asylum-applications-in-q2-2022\">\n",
      "<div class=\"col-4 col-lg-12 pr-0\">\n",
      "<div class=\"cbs-image-container\">\n",
      "<img alt=\"Children from an asylum shelter saying goodbye to their teacher at the end of the school year.\" class=\"lazy img-fluid\" data-src=\"https://cdn.cbs.nl/images/5435692b5a63482f727068446b394544597a4e596a513d3d/294x196.jpg\" src=\"/Content/images/placeholder.jpg\" title=\"\"/>\n",
      "<noscript>\n",
      "<img alt=\"Children from an asylum shelter saying goodbye to their teacher at the end of the school year.\" class=\"img-fluid\" src=\"https://cdn.cbs.nl/images/5435692b5a63482f727068446b394544597a4e596a513d3d/294x196.jpg\"/>\n",
      "</noscript>\n",
      "</div>\n",
      "</div>\n",
      "<div class=\"col-8 col-lg-12 pl-3 pr-0\">\n",
      "<div class=\"caption mt-lg-2\">\n",
      "<h3>More asylum applications in Q2 2022</h3>\n",
      "<p><span class=\"date\"><time datetime=\"2022-08-01T13:00:00+00:00\">01/08/2022 15:00</time></span></p>\n",
      "</div>\n",
      "</div>\n",
      "</a>, <a class=\"thumbnail row\" href=\"https://www.cbs.nl/en-gb/news/2022/30/economic-outlook-virtually-unchanged\">\n",
      "<div class=\"col-4 col-lg-12 pr-0\">\n",
      "<div class=\"cbs-image-container\">\n",
      "<img alt=\"\" class=\"lazy img-fluid\" data-src=\"https://cdn.cbs.nl/images/4c784e54413242464844726c41742f547030355656513d3d/294x196.jpg\" src=\"/Content/images/placeholder.jpg\" title=\"\"/>\n",
      "<noscript>\n",
      "<img alt=\"\" class=\"img-fluid\" src=\"https://cdn.cbs.nl/images/4c784e54413242464844726c41742f547030355656513d3d/294x196.jpg\"/>\n",
      "</noscript>\n",
      "</div>\n",
      "</div>\n",
      "<div class=\"col-8 col-lg-12 pl-3 pr-0\">\n",
      "<div class=\"caption mt-lg-2\">\n",
      "<h3>Economic outlook virtually unchanged</h3>\n",
      "<p><span class=\"date\"><time datetime=\"2022-07-29T13:00:00+00:00\">29/07/2022 15:00</time></span></p>\n",
      "</div>\n",
      "</div>\n",
      "</a>, <a class=\"thumbnail row\" href=\"https://www.cbs.nl/en-gb/news/2022/30/hicp-11-6-percent-higher-in-july\">\n",
      "<div class=\"col-4 col-lg-12 pr-0\">\n",
      "<div class=\"cbs-image-container\">\n",
      "<img alt=\"Supermarket\" class=\"lazy img-fluid\" data-src=\"https://cdn.cbs.nl/images/6a324144397149396e3872326969454b7036467038513d3d/294x196.jpg\" src=\"/Content/images/placeholder.jpg\" title=\"\"/>\n",
      "<noscript>\n",
      "<img alt=\"Supermarket\" class=\"img-fluid\" src=\"https://cdn.cbs.nl/images/6a324144397149396e3872326969454b7036467038513d3d/294x196.jpg\"/>\n",
      "</noscript>\n",
      "</div>\n",
      "</div>\n",
      "<div class=\"col-8 col-lg-12 pl-3 pr-0\">\n",
      "<div class=\"caption mt-lg-2\">\n",
      "<h3>HICP 11.6 percent higher in July</h3>\n",
      "<p><span class=\"date\"><time datetime=\"2022-07-29T13:00:00+00:00\">29/07/2022 15:00</time></span></p>\n",
      "</div>\n",
      "</div>\n",
      "</a>]\n"
     ]
    }
   ],
   "source": [
    "# Find all elements belonging to a class:\n",
    "\n",
    "# find_all:\n",
    "#print(soup.find_all(\"a\", class_=\"thumbnail\"))\n",
    "\n",
    "# CSS:\n",
    "print(soup.select(\"a.thumbnail\"))"
   ]
  },
  {
   "cell_type": "code",
   "execution_count": 6,
   "metadata": {},
   "outputs": [
    {
     "name": "stdout",
     "output_type": "stream",
     "text": [
      "[<section class=\"col-12 col-lg-3\" id=\"aside-main\">\n",
      "<aside class=\"sidebar-pink col-12\" role=\"complementary\">\n",
      "<div class=\"aside-content\">\n",
      "<h2>Expected</h2>\n",
      "<a href=\"https://www.cbs.nl/en-gb/publication-calendar\" title=\"Publication calendar\">\n",
      "<h3>Labour market</h3>\n",
      "<p class=\"date\"><time datetime=\"2022-08-18T13:00:00+00:00\">18/08/2022 15:00</time></p> <h3>Consumer confidence</h3>\n",
      "<p class=\"date\"><time datetime=\"2022-08-22T13:00:00+00:00\">22/08/2022 15:00</time></p> <h3>House prices</h3>\n",
      "<p class=\"date\"><time datetime=\"2022-08-22T13:00:00+00:00\">22/08/2022 15:00</time></p> <h3>Investments</h3>\n",
      "<p class=\"date\"><time datetime=\"2022-08-22T13:00:00+00:00\">22/08/2022 15:00</time></p> </a>\n",
      "</div>\n",
      "</aside>\n",
      "<aside class=\"sidebar-red col-12\" role=\"complementary\">\n",
      "<div class=\"aside-content\">\n",
      "<h2>Featured</h2>\n",
      "<a href=\"https://www.cbs.nl/en-gb/publication/2022/20/monitor-of-well-being-the-sustainable-development-goals-2022\">\n",
      "<p class=\"featured-title\">Monitor of Well-being &amp; the Sustainable Development Goals 2022</p>\n",
      "<p class=\"date\"></p>\n",
      "</a>\n",
      "<a href=\"https://www.cbs.nl/en-gb/corporate/2022/28/cbs-and-uva-in-collaboration-to-solve-social-problems\">\n",
      "<p class=\"featured-title\">Collaboration between CBS and UvA/IAS extended</p>\n",
      "<p class=\"date\"></p>\n",
      "</a>\n",
      "</div>\n",
      "</aside>\n",
      "<aside class=\"sidebar-blue col-12\" role=\"complementary\">\n",
      "<div class=\"aside-content\">\n",
      "<h2>CBS video</h2>\n",
      "<h3 class=\"title\">Population forecast.</h3>\n",
      "<div class=\"cbs-image-container px-0\">\n",
      "<a href=\"https://www.cbs.nl/en-gb/video/61aa377982754f848e04a77cd6ac866f?16by9=true\">\n",
      "<img alt=\"Population forecast\" class=\"img-fluid w-100\" src=\"https://api.eu.kaltura.com/p/139/thumbnail/entry_id/0_796cyann/width/480/height/270\"/>\n",
      "<span alt=\"This page contains a video.\" aria-label=\"This page contains a video.\" class=\"fa fa-play-circle-o cbs-video\"></span>\n",
      "</a>\n",
      "</div>\n",
      "</div>\n",
      "</aside>\n",
      "</section>]\n"
     ]
    }
   ],
   "source": [
    "# find all elements with an id:\n",
    "\n",
    "# find_all:\n",
    "#print(soup.find_all(\"section\", id=\"aside-main\"))\n",
    "\n",
    "# CSS:\n",
    "print(soup.select(\"section#aside-main\"))"
   ]
  },
  {
   "cell_type": "code",
   "execution_count": 7,
   "metadata": {},
   "outputs": [
    {
     "name": "stdout",
     "output_type": "stream",
     "text": [
      "Economic growth 2.6 percent in Q2 2022\n",
      "Exports up by almost 4 percent in June\n",
      "Business confidence down as of Q3\n",
      "Fewer bankruptcies in July \n",
      "Manufacturing output over 6 percent up in June\n",
      "Aviation not yet at 2019 level in Q2\n",
      "Excess mortality in all weeks of July\n",
      "Inflation rate up to 10.3 percent in July\n",
      "Population up by nearly 120 thousand in first half of 2022\n",
      "More asylum applications in Q2 2022\n",
      "Economic outlook virtually unchanged\n",
      "HICP 11.6 percent higher in July\n"
     ]
    }
   ],
   "source": [
    "# The power of CSS is in traversing the tree in one statement:\n",
    "# Get all headlines via a CSS selector:\n",
    "headlines = soup.select(\"a.thumbnail h3\")\n",
    "for headline in headlines:\n",
    "    print(headline.text)"
   ]
  },
  {
   "cell_type": "code",
   "execution_count": 8,
   "metadata": {},
   "outputs": [
    {
     "name": "stdout",
     "output_type": "stream",
     "text": [
      "https://www.cbs.nl/en-gb/news/2022/33/economic-growth-2-6-percent-in-q2-2022\n",
      "https://www.cbs.nl/en-gb/news/2022/33/exports-up-by-almost-4-percent-in-june\n",
      "https://www.cbs.nl/en-gb/news/2022/33/business-confidence-down-as-of-q3\n",
      "https://www.cbs.nl/en-gb/news/2022/32/fewer-bankruptcies-in-july\n",
      "https://www.cbs.nl/en-gb/news/2022/32/manufacturing-output-over-6-percent-up-in-june\n",
      "https://www.cbs.nl/en-gb/news/2022/31/aviation-not-yet-at-2019-level-in-q2\n",
      "https://www.cbs.nl/en-gb/news/2022/31/excess-mortality-in-all-weeks-of-july\n",
      "https://www.cbs.nl/en-gb/news/2022/31/inflation-rate-up-to-10-3-percent-in-july\n",
      "https://www.cbs.nl/en-gb/news/2022/30/population-up-by-nearly-120-thousand-in-first-half-of-2022\n",
      "https://www.cbs.nl/en-gb/news/2022/30/more-asylum-applications-in-q2-2022\n",
      "https://www.cbs.nl/en-gb/news/2022/30/economic-outlook-virtually-unchanged\n",
      "https://www.cbs.nl/en-gb/news/2022/30/hicp-11-6-percent-higher-in-july\n"
     ]
    }
   ],
   "source": [
    "# Get all links of thumbnails via CSS:\n",
    "thumbnails = soup.select(\"a.thumbnail\")\n",
    "for thumbnail in thumbnails:\n",
    "    print(thumbnail['href'])"
   ]
  },
  {
   "cell_type": "code",
   "execution_count": 9,
   "metadata": {},
   "outputs": [
    {
     "name": "stdout",
     "output_type": "stream",
     "text": [
      "Labour market\n",
      "Consumer confidence\n",
      "House prices\n",
      "Investments\n",
      "Population forecast.\n"
     ]
    }
   ],
   "source": [
    "# Get all h3s in the aside section:\n",
    "aside_H3s = soup.select(\"section#aside-main h3\")\n",
    "for a in aside_H3s:\n",
    "    print(a.text)"
   ]
  },
  {
   "cell_type": "code",
   "execution_count": null,
   "metadata": {},
   "outputs": [],
   "source": []
  },
  {
   "cell_type": "code",
   "execution_count": null,
   "metadata": {},
   "outputs": [],
   "source": []
  }
 ],
 "metadata": {
  "kernelspec": {
   "display_name": "Python 3 (ipykernel)",
   "language": "python",
   "name": "python3"
  },
  "language_info": {
   "codemirror_mode": {
    "name": "ipython",
    "version": 3
   },
   "file_extension": ".py",
   "mimetype": "text/x-python",
   "name": "python",
   "nbconvert_exporter": "python",
   "pygments_lexer": "ipython3",
   "version": "3.9.12"
  }
 },
 "nbformat": 4,
 "nbformat_minor": 2
}
