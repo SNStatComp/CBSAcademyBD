{
 "cells": [
  {
   "cell_type": "markdown",
   "metadata": {},
   "source": [
    "# Deel 1"
   ]
  },
  {
   "cell_type": "code",
   "execution_count": null,
   "metadata": {},
   "outputs": [],
   "source": [
    "# Imports:\n",
    "import requests                     # for issueing HTTP requests\n",
    "import time                         # for sleeping between multiple requests"
   ]
  },
  {
   "cell_type": "markdown",
   "metadata": {},
   "source": [
    "Via de website [https://www.parkeerbord.nl/](https://www.parkeerbord.nl/) worden verkeersborden verkocht.\n",
    "We willen de gemiddelde prijs weten van een aantal borden.\n",
    "\n",
    "Haal de homepagina op met requests en bekijk de html in het jupyter notebook.\n",
    "Gebruik de aangeven user-agent voor identificatie."
   ]
  },
  {
   "cell_type": "code",
   "execution_count": null,
   "metadata": {},
   "outputs": [],
   "source": [
    "head = {'user-agent': 'scrapingCourseBot'}\n",
    "# Code hier:\n",
    "resp = requests.get('https://parkeerbord.nl', headers=head)\n",
    "#print(resp.text)"
   ]
  },
  {
   "cell_type": "markdown",
   "metadata": {},
   "source": [
    "Zoek op [parkeerbord.nl/](https://www.parkeerbord.nl/) m.b.v. de zoekbalk naar borden die 'blauw' zijn.\n",
    "Bekijk de URL van de pagina nadat je op enter hebt gedrukt. Wat valt je op?\n",
    "\n",
    "Gebruik deze kennis om met requests de html van de pagina met de borden die 'groen' zijn op te halen."
   ]
  },
  {
   "cell_type": "code",
   "execution_count": null,
   "metadata": {},
   "outputs": [],
   "source": [
    "# Code hier:\n",
    "resp2 = requests.get('https://parkeerbord.nl', headers=head, params={'s': 'groen', 'post_type': 'product'})\n",
    "print(resp2.url)\n",
    "print(resp2.status_code)\n",
    "#print(resp2.text)"
   ]
  },
  {
   "cell_type": "markdown",
   "metadata": {},
   "source": [
    "Sla nu de html-code van de pagina met de borden die 'groen' zijn op in een file."
   ]
  },
  {
   "cell_type": "code",
   "execution_count": null,
   "metadata": {},
   "outputs": [],
   "source": [
    "# Code hier:\n",
    "with open('groene_borden.html', 'w', encoding=resp2.encoding) as file:\n",
    "    file.write(resp2.text)"
   ]
  },
  {
   "cell_type": "markdown",
   "metadata": {},
   "source": [
    "Laat nu de pagina weer in van je opgeslagen kopie."
   ]
  },
  {
   "cell_type": "code",
   "execution_count": null,
   "metadata": {},
   "outputs": [],
   "source": [
    "with open('groene_borden.html', 'r') as file:\n",
    "    geladen_html = file.read()\n",
    "geladen_html"
   ]
  },
  {
   "cell_type": "markdown",
   "metadata": {},
   "source": [
    "# Deel 2"
   ]
  },
  {
   "cell_type": "markdown",
   "metadata": {},
   "source": [
    "Bekijk met behulp van de developer-tool in je browser naar het onderdeel van de pagina waar de prijs van een bord staat. Waarom is het niet zo makkelijk om automatisch de prijs te vinden door naar het euroteken te zoeken?\n",
    "        - Het euroteken staat vele tekens voor de eigenlijke prijs."
   ]
  },
  {
   "cell_type": "markdown",
   "metadata": {},
   "source": [
    "Maak een reguliere expressie die zoekt naar prijzen. Zorg dat de regex alleen de prijs zonder eenheid (euroteken) teruggeeft."
   ]
  },
  {
   "cell_type": "code",
   "execution_count": null,
   "metadata": {},
   "outputs": [],
   "source": [
    "regex_prijs = r\"[0-9]+,[0-9]{2}\""
   ]
  },
  {
   "cell_type": "markdown",
   "metadata": {},
   "source": [
    "Bereken de gemiddelde prijs van de groene borden uit het tekstbestand dat je in deel 1 hebt opgeslagen/ingeladen.  Je kunt hiervoor gebruik maken van de volgende functie."
   ]
  },
  {
   "cell_type": "code",
   "execution_count": null,
   "metadata": {},
   "outputs": [],
   "source": [
    "# run deze cel voordat je gaat coderen om de functie te definieren en te zien hoe hij gebruikt moet worden.\n",
    "def gemiddelde_prijs(lijst_met_prijzen):\n",
    "    som = 0\n",
    "    for prijs in lijst_met_prijzen:\n",
    "        som += float(prijs.replace(',','.'))\n",
    "    return som / len(lijst_met_prijzen)\n",
    "\n",
    "gemiddelde_prijs(['5,00', '6,00'])"
   ]
  },
  {
   "cell_type": "code",
   "execution_count": null,
   "metadata": {},
   "outputs": [],
   "source": [
    "import re\n",
    "lijst_met_prijzen = re.findall(regex_prijs, resp2.text)\n",
    "print(lijst_met_prijzen)\n",
    "print(gemiddelde_prijs(lijst_met_prijzen))"
   ]
  },
  {
   "cell_type": "markdown",
   "metadata": {},
   "source": [
    "Het is altijd belangrijk om je werk goed te controleren. Kijk via de browser of je berekening voor de groene borden klopt. Zo niet, wat ging er fout? Een eventuele oplossing zullen we de volgende keer bespreken.\n",
    "    - De gemiddelde prijs van 4 borden van 49,00 zou toch echt 49,00 moeten zijn. Zoals hierboven te zien is, zit er ergens anders in de code een 0,50 in boilerplate van de pagina. Met de onderstaande regex kun je snel de nabije omgeving van het probleemgeval zien. Oplossingen zouden kunnen komen in de vorm van een look-back in de reguliere expressie, wat wel voor gevorderd gebruik is, maar nog mooier maak je gebruik van Beautiful Soup en de structuur van de webpagina, zoals we op dag twee van de cursus behandelen."
   ]
  },
  {
   "cell_type": "code",
   "execution_count": null,
   "metadata": {},
   "outputs": [],
   "source": [
    "re.search(r\".{20}0,50.{20}\", resp2.text)"
   ]
  }
 ],
 "metadata": {
  "kernelspec": {
   "display_name": "Python 3 (ipykernel)",
   "language": "python",
   "name": "python3"
  },
  "language_info": {
   "codemirror_mode": {
    "name": "ipython",
    "version": 3
   },
   "file_extension": ".py",
   "mimetype": "text/x-python",
   "name": "python",
   "nbconvert_exporter": "python",
   "pygments_lexer": "ipython3",
   "version": "3.9.12"
  }
 },
 "nbformat": 4,
 "nbformat_minor": 2
}
