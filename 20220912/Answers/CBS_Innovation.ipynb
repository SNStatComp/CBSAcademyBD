{
 "cells": [
  {
   "cell_type": "markdown",
   "metadata": {},
   "source": [
    "## Exercise: CBS Innovation"
   ]
  },
  {
   "cell_type": "code",
   "execution_count": 24,
   "metadata": {},
   "outputs": [],
   "source": [
    "import requests\n",
    "from bs4 import BeautifulSoup\n",
    "import time                      # for sleeping between multiple requests\n",
    "headers = {'user-agent': 'scrapingCourseBot'}"
   ]
  },
  {
   "cell_type": "markdown",
   "metadata": {},
   "source": [
    "- Get CBS innovation page using requests and parse result using BeautifulSoup"
   ]
  },
  {
   "cell_type": "code",
   "execution_count": 25,
   "metadata": {},
   "outputs": [
    {
     "name": "stdout",
     "output_type": "stream",
     "text": [
      "200\n"
     ]
    }
   ],
   "source": [
    "r = requests.get('https://www.cbs.nl/nl-nl/over-ons/innovatie', headers=headers)\n",
    "print(r.status_code)\n",
    "soup = BeautifulSoup(r.text,'lxml')"
   ]
  },
  {
   "cell_type": "markdown",
   "metadata": {},
   "source": [
    "- Retrieve all titles of all innovation articles on this page using BeautifulSoup and / or a CSS selector and print them"
   ]
  },
  {
   "cell_type": "code",
   "execution_count": 26,
   "metadata": {},
   "outputs": [
    {
     "name": "stdout",
     "output_type": "stream",
     "text": [
      "Vroege loopbaan van jongeren op een nieuwe manier in kaart gebracht\n",
      "Cybercrime achterhalen in aangiften\n",
      "Identificeren van AI-aanbieders\n",
      "Inzicht in consumptie bij supermarkten, project VIPS\n",
      "De economische waarde van de natuur\n",
      "Zonnepanelen automatisch detecteren met luchtfoto’s\n"
     ]
    }
   ],
   "source": [
    "# Using find/find_all:\n",
    "#titles = soup.find_all(\"h3\")\n",
    "# Using a css selector:\n",
    "titles = soup.select(\"h3\")\n",
    "for title in titles:\n",
    "    print(title.text)"
   ]
  },
  {
   "cell_type": "markdown",
   "metadata": {},
   "source": [
    "- For each innovation article print the URL and the contents of the first paragraph (tag p) of that article"
   ]
  },
  {
   "cell_type": "code",
   "execution_count": 27,
   "metadata": {},
   "outputs": [
    {
     "name": "stdout",
     "output_type": "stream",
     "text": [
      "<p>De analyse brengt ook verschillen naar geslacht en opleidingsniveau in kaart. Hieruit blijkt dat de verschillen tussen mannen en vrouwen beperkt zijn, maar de verschillen naar opleidingsniveau groot: laagopgeleiden hebben minder stabiele loopbanen dan middelbaar en hoogopgeleiden. Vooral laagopgeleide vrouwen hebben vaak loopbanen die gekenmerkt worden door niet werken. Tot slot wordt er een typologie van vroege loopbanen gemaakt die laat zien welke soorten vroege loopbanen er kunnen worden onderscheiden.</p>\n"
     ]
    }
   ],
   "source": [
    "# First try your code for one article\n",
    "r1 = requests.get('https://www.cbs.nl/nl-nl/over-ons/innovatie/project/vroege-loopbaan-van-jongeren-op-een-nieuwe-manier-in-kaart-gebracht', headers=headers)\n",
    "soup1 = BeautifulSoup(r1.text, 'lxml')\n",
    "# Using find/find_all:\n",
    "#par = soup1.find('article').find('p')\n",
    "# Using a css selector:\n",
    "par = soup1.select('article p')[0]\n",
    "print(par)"
   ]
  },
  {
   "cell_type": "code",
   "execution_count": 28,
   "metadata": {},
   "outputs": [
    {
     "name": "stdout",
     "output_type": "stream",
     "text": [
      "https://www.cbs.nl/nl-nl/over-ons/innovatie/project/vroege-loopbaan-van-jongeren-op-een-nieuwe-manier-in-kaart-gebracht\n",
      "<p>De analyse brengt ook verschillen naar geslacht en opleidingsniveau in kaart. Hieruit blijkt dat de verschillen tussen mannen en vrouwen beperkt zijn, maar de verschillen naar opleidingsniveau groot: laagopgeleiden hebben minder stabiele loopbanen dan middelbaar en hoogopgeleiden. Vooral laagopgeleide vrouwen hebben vaak loopbanen die gekenmerkt worden door niet werken. Tot slot wordt er een typologie van vroege loopbanen gemaakt die laat zien welke soorten vroege loopbanen er kunnen worden onderscheiden.</p>\n",
      "********************\n",
      "https://www.cbs.nl/nl-nl/over-ons/innovatie/project/cybercrime-achterhalen-in-aangiften\n",
      "<p>De analyse brengt ook verschillen naar geslacht en opleidingsniveau in kaart. Hieruit blijkt dat de verschillen tussen mannen en vrouwen beperkt zijn, maar de verschillen naar opleidingsniveau groot: laagopgeleiden hebben minder stabiele loopbanen dan middelbaar en hoogopgeleiden. Vooral laagopgeleide vrouwen hebben vaak loopbanen die gekenmerkt worden door niet werken. Tot slot wordt er een typologie van vroege loopbanen gemaakt die laat zien welke soorten vroege loopbanen er kunnen worden onderscheiden.</p>\n",
      "********************\n",
      "https://www.cbs.nl/nl-nl/over-ons/innovatie/project/identificeren-van-ai-aanbieders\n",
      "<p>De analyse brengt ook verschillen naar geslacht en opleidingsniveau in kaart. Hieruit blijkt dat de verschillen tussen mannen en vrouwen beperkt zijn, maar de verschillen naar opleidingsniveau groot: laagopgeleiden hebben minder stabiele loopbanen dan middelbaar en hoogopgeleiden. Vooral laagopgeleide vrouwen hebben vaak loopbanen die gekenmerkt worden door niet werken. Tot slot wordt er een typologie van vroege loopbanen gemaakt die laat zien welke soorten vroege loopbanen er kunnen worden onderscheiden.</p>\n",
      "********************\n",
      "https://www.cbs.nl/nl-nl/over-ons/innovatie/project/inzicht-in-consumptie-bij-supermarkten-project-vips\n",
      "<p>De analyse brengt ook verschillen naar geslacht en opleidingsniveau in kaart. Hieruit blijkt dat de verschillen tussen mannen en vrouwen beperkt zijn, maar de verschillen naar opleidingsniveau groot: laagopgeleiden hebben minder stabiele loopbanen dan middelbaar en hoogopgeleiden. Vooral laagopgeleide vrouwen hebben vaak loopbanen die gekenmerkt worden door niet werken. Tot slot wordt er een typologie van vroege loopbanen gemaakt die laat zien welke soorten vroege loopbanen er kunnen worden onderscheiden.</p>\n",
      "********************\n",
      "https://www.cbs.nl/nl-nl/over-ons/innovatie/project/de-economische-waarde-van-de-natuur\n",
      "<p>De analyse brengt ook verschillen naar geslacht en opleidingsniveau in kaart. Hieruit blijkt dat de verschillen tussen mannen en vrouwen beperkt zijn, maar de verschillen naar opleidingsniveau groot: laagopgeleiden hebben minder stabiele loopbanen dan middelbaar en hoogopgeleiden. Vooral laagopgeleide vrouwen hebben vaak loopbanen die gekenmerkt worden door niet werken. Tot slot wordt er een typologie van vroege loopbanen gemaakt die laat zien welke soorten vroege loopbanen er kunnen worden onderscheiden.</p>\n",
      "********************\n",
      "https://www.cbs.nl/nl-nl/over-ons/innovatie/project/zonnepanelen-automatisch-detecteren-met-luchtfoto-s\n",
      "<p>De analyse brengt ook verschillen naar geslacht en opleidingsniveau in kaart. Hieruit blijkt dat de verschillen tussen mannen en vrouwen beperkt zijn, maar de verschillen naar opleidingsniveau groot: laagopgeleiden hebben minder stabiele loopbanen dan middelbaar en hoogopgeleiden. Vooral laagopgeleide vrouwen hebben vaak loopbanen die gekenmerkt worden door niet werken. Tot slot wordt er een typologie van vroege loopbanen gemaakt die laat zien welke soorten vroege loopbanen er kunnen worden onderscheiden.</p>\n",
      "********************\n"
     ]
    }
   ],
   "source": [
    "# Then loop through all articles\n",
    "# Using find/find_all:\n",
    "for a in soup.find_all(\"a\", class_=\"thumbnail\"):\n",
    "# Using a css selector:\n",
    "#for a in soup.select('a.thumbnail'):\n",
    "    link = a['href']\n",
    "    print(link)\n",
    "    r1 = requests.get(link, headers=headers)\n",
    "    s = BeautifulSoup(r1.text, 'lxml')\n",
    "    \n",
    "    # Using find/find_all:\n",
    "    #par = soup1.find('article').find('p')\n",
    "    # Using a css selector:\n",
    "    par = soup1.select('article p')[0]\n",
    "    print(par)\n",
    "    \n",
    "    #break\n",
    "    print('********************')\n",
    "    \n",
    "    time.sleep(1)"
   ]
  },
  {
   "cell_type": "markdown",
   "metadata": {},
   "source": [
    "- Option: retrieve all urls to images in all innovation articles and show them "
   ]
  },
  {
   "cell_type": "code",
   "execution_count": 15,
   "metadata": {},
   "outputs": [
    {
     "name": "stdout",
     "output_type": "stream",
     "text": [
      "https://www.cbs.nl/nl-nl/over-ons/innovatie/project/vroege-loopbaan-van-jongeren-op-een-nieuwe-manier-in-kaart-gebracht\n",
      "https://cdn.cbs.nl/images/415669654b3563495165415738703042514b4c376c513d3d/900x450.jpg\n",
      "********************\n",
      "https://www.cbs.nl/nl-nl/over-ons/innovatie/project/cybercrime-achterhalen-in-aangiften\n",
      "********************\n",
      "https://www.cbs.nl/nl-nl/over-ons/innovatie/project/identificeren-van-ai-aanbieders\n",
      "********************\n",
      "https://www.cbs.nl/nl-nl/over-ons/innovatie/project/inzicht-in-consumptie-bij-supermarkten-project-vips\n",
      "********************\n",
      "https://www.cbs.nl/nl-nl/over-ons/innovatie/project/de-economische-waarde-van-de-natuur\n",
      "/-/media/innovatie/landbouw.png?la=nl-nl&hash=F282FDA3EFD08FDCD45C4AD3D2652ED3\n",
      "/-/media/innovatie/koolstofvastlegging.png?la=nl-nl&hash=E0FA84FB4EB841CE15CC0D521A69229D\n",
      "/-/media/innovatie/recreatie-toerisme.png?la=nl-nl&hash=DEB0D4B3679388E77B2E984F6117DAFD\n",
      "********************\n",
      "https://www.cbs.nl/nl-nl/over-ons/innovatie/project/zonnepanelen-automatisch-detecteren-met-luchtfoto-s\n",
      "/-/media/_afbeeldingen/2018/51/deep-learning.jpg?la=nl-nl&hash=E9EA719E3ADB8E4C6C2EE3F2F4736662\n",
      "********************\n"
     ]
    }
   ],
   "source": [
    "# Using find/find_all:\n",
    "for a in soup.find_all(\"a\", class_=\"thumbnail\"):\n",
    "# Using a css selector:\n",
    "#for a in soup.select('a.thumbnail'):\n",
    "    link = a['href']\n",
    "    print(link)\n",
    "    \n",
    "    r1 = requests.get(link, headers=headers)\n",
    "    #print(r1.status_code)\n",
    "    soup1 = BeautifulSoup(r1.text, 'lxml')\n",
    "    \n",
    "    # Using find/find_all:\n",
    "    images = soup1.find('article').find('section').find_all('img')\n",
    "    # Using a css selector:\n",
    "    #images = soup1.select('article section')[0].select('img')\n",
    "    #images = article.select('img')\n",
    "   \n",
    "    for img in images:\n",
    "        print(img['src'])\n",
    "    \n",
    "    #break\n",
    "    print('********************')\n",
    "    \n",
    "    time.sleep(1)"
   ]
  }
 ],
 "metadata": {
  "kernelspec": {
   "display_name": "Python 3 (ipykernel)",
   "language": "python",
   "name": "python3"
  },
  "language_info": {
   "codemirror_mode": {
    "name": "ipython",
    "version": 3
   },
   "file_extension": ".py",
   "mimetype": "text/x-python",
   "name": "python",
   "nbconvert_exporter": "python",
   "pygments_lexer": "ipython3",
   "version": "3.9.12"
  }
 },
 "nbformat": 4,
 "nbformat_minor": 2
}
