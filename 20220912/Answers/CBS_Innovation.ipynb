{
 "cells": [
  {
   "cell_type": "markdown",
   "metadata": {},
   "source": [
    "## Exercise: CBS Innovation"
   ]
  },
  {
   "cell_type": "code",
   "execution_count": null,
   "metadata": {},
   "outputs": [],
   "source": [
    "import requests\n",
    "from bs4 import BeautifulSoup\n",
    "import time                      # for sleeping between multiple requests\n",
    "headers = {'user-agent': 'scrapingCourseBot'}"
   ]
  },
  {
   "cell_type": "markdown",
   "metadata": {},
   "source": [
    "- Get CBS innovation page using requests and parse result using BeautifulSoup"
   ]
  },
  {
   "cell_type": "code",
   "execution_count": null,
   "metadata": {},
   "outputs": [],
   "source": [
    "r = requests.get('https://www.cbs.nl/nl-nl/over-ons/innovatie', headers=headers)\n",
    "print(r.status_code)\n",
    "soup = BeautifulSoup(r.text,'lxml')"
   ]
  },
  {
   "cell_type": "markdown",
   "metadata": {},
   "source": [
    "- Retrieve all titles of all innovation articles on this page using BeautifulSoup and / or a CSS selector and print them"
   ]
  },
  {
   "cell_type": "code",
   "execution_count": null,
   "metadata": {},
   "outputs": [],
   "source": [
    "# Solution using a CSS selector:\n",
    "for h3 in soup.select('section div div h3'):\n",
    "    print(h3.text)"
   ]
  },
  {
   "cell_type": "code",
   "execution_count": null,
   "metadata": {},
   "outputs": [],
   "source": [
    "# An alternative solution using find_all:\n",
    "for i in soup.find_all('div', class_='caption'):\n",
    "    print(i.h3.text)"
   ]
  },
  {
   "cell_type": "markdown",
   "metadata": {},
   "source": [
    "- For each innovation article print the URL and the contents of the first paragraph (tag p) of that article"
   ]
  },
  {
   "cell_type": "code",
   "execution_count": null,
   "metadata": {},
   "outputs": [],
   "source": [
    "# First try your code for one article\n",
    "r = requests.get('https://www.cbs.nl/nl-nl/over-ons/innovatie/project/woonbase-woononderzoek-op-basis-van-integrale-gegevensbronnen', headers=headers)\n",
    "s = BeautifulSoup(r.text, 'lxml')\n",
    "sel = s.select('section p')\n",
    "print(sel[0].text.strip())"
   ]
  },
  {
   "cell_type": "code",
   "execution_count": null,
   "metadata": {},
   "outputs": [],
   "source": [
    "# Then loop through all articles\n",
    "for a in soup.select('section div div a'):\n",
    "    link = a['href']\n",
    "    print(link)\n",
    "    r = requests.get(link, headers=headers)\n",
    "    s = BeautifulSoup(r.text, 'lxml')\n",
    "    sel = s.select('section p')\n",
    "    print(sel[0].text.strip())\n",
    "    print('********************')\n",
    "    time.sleep(1) # in robots.txt CBS advises a delay of 1 second"
   ]
  },
  {
   "cell_type": "markdown",
   "metadata": {},
   "source": [
    "- Option: retrieve all urls to images in all innovation articles and show them "
   ]
  },
  {
   "cell_type": "code",
   "execution_count": null,
   "metadata": {},
   "outputs": [],
   "source": [
    "# Then loop through all articles and get all \n",
    "for a in soup.select('section div div a'):\n",
    "    link = a['href']\n",
    "    print(link)\n",
    "    r = requests.get(link, headers=headers)\n",
    "    s = BeautifulSoup(r.text, 'lxml')\n",
    "    imgs = s.select('section img')\n",
    "    for img in imgs:\n",
    "        print(img['src'])\n",
    "    #print(sel)\n",
    "    print('********************')\n",
    "    time.sleep(1) # in robots.txt CBS advises a delay of 1 second"
   ]
  },
  {
   "cell_type": "code",
   "execution_count": null,
   "metadata": {},
   "outputs": [],
   "source": []
  }
 ],
 "metadata": {
  "kernelspec": {
   "display_name": "Python 3 (ipykernel)",
   "language": "python",
   "name": "python3"
  },
  "language_info": {
   "codemirror_mode": {
    "name": "ipython",
    "version": 3
   },
   "file_extension": ".py",
   "mimetype": "text/x-python",
   "name": "python",
   "nbconvert_exporter": "python",
   "pygments_lexer": "ipython3",
   "version": "3.9.12"
  }
 },
 "nbformat": 4,
 "nbformat_minor": 2
}
