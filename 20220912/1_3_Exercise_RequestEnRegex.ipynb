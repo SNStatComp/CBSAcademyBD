{
 "cells": [
  {
   "cell_type": "markdown",
   "metadata": {},
   "source": [
    "# Deel 1"
   ]
  },
  {
   "cell_type": "markdown",
   "metadata": {},
   "source": [
    "Bezoek de website parkeerbord.nl via je browser."
   ]
  },
  {
   "cell_type": "markdown",
   "metadata": {},
   "source": [
    "Via deze pagina worden verscheidene verkeersborden verkocht. Stel nu dat we willen graag willen weten wat de gemiddelde prijs is van een aantal borden op deze site."
   ]
  },
  {
   "cell_type": "markdown",
   "metadata": {},
   "source": [
    "Haal de homepagina op met een request, en bekijk de html-tekst hier in het jupyter notebook. Gebruik in de request het optionele argument headers=head hieronder."
   ]
  },
  {
   "cell_type": "code",
   "execution_count": null,
   "metadata": {},
   "outputs": [],
   "source": [
    "head = {'user-agent': 'scrapingCourseBot'}\n",
    "# Code hier"
   ]
  },
  {
   "cell_type": "markdown",
   "metadata": {},
   "source": [
    "Zoek op de voorpagina met behulp van de zoekbalk naar borden die 'blauw' zijn. Bekijk de URL van de pagina nadat je op enter hebt gedrukt. Wat valt je op?"
   ]
  },
  {
   "cell_type": "markdown",
   "metadata": {},
   "source": [
    "Sla nu, zonder de browser te gebruiken, de html-code op de zoekpagina met de borden die 'groen' zijn. Vergeet het optionele argument headers=head niet."
   ]
  },
  {
   "cell_type": "code",
   "execution_count": null,
   "metadata": {},
   "outputs": [],
   "source": [
    "# Code hier"
   ]
  },
  {
   "cell_type": "markdown",
   "metadata": {},
   "source": [
    "Laat nu de pagina weer in van je opgeslagen kopie."
   ]
  },
  {
   "cell_type": "code",
   "execution_count": null,
   "metadata": {},
   "outputs": [],
   "source": [
    "# Code hier"
   ]
  },
  {
   "cell_type": "markdown",
   "metadata": {},
   "source": [
    "# Deel 2"
   ]
  },
  {
   "cell_type": "markdown",
   "metadata": {},
   "source": [
    "Bekijk met behulp van de developer-tool in je browser naar het onderdeel van de pagina waar de prijs van een bord staat. Waarom is het niet zo makkelijk om automatisch de prijs te vinden door naar het euroteken te zoeken?"
   ]
  },
  {
   "cell_type": "markdown",
   "metadata": {},
   "source": [
    "Maak een reguliere expressie die zoekt naar prijzen. Zorg dat de regex alleen de prijs zonder eenheid (euroteken) teruggeeft."
   ]
  },
  {
   "cell_type": "code",
   "execution_count": null,
   "metadata": {},
   "outputs": [],
   "source": [
    "regex_prijs = \"\""
   ]
  },
  {
   "cell_type": "markdown",
   "metadata": {},
   "source": [
    "Haal opnieuw de zoekpagina voor de groenen borden binnen, en bereken daarop de gemiddelde prijs van de borden. Je kunt hiervoor gebruik maken van de volgende functie."
   ]
  },
  {
   "cell_type": "code",
   "execution_count": null,
   "metadata": {},
   "outputs": [],
   "source": [
    "# run deze cel voordat je gaat coderen om de functie te definieren en te zien hoe hij gebruikt moet worden.\n",
    "def gemiddelde_prijs(lijst_met_prijzen):\n",
    "    som = 0\n",
    "    for prijs in lijst_met_prijzen:\n",
    "        som += float(prijs.replace(',','.'))\n",
    "    return som / len(lijst_met_prijzen)\n",
    "\n",
    "gemiddelde_prijs(['5,00', '6,00'])"
   ]
  },
  {
   "cell_type": "code",
   "execution_count": null,
   "metadata": {},
   "outputs": [],
   "source": [
    "# Code hier"
   ]
  },
  {
   "cell_type": "markdown",
   "metadata": {},
   "source": [
    "Het is altijd belangrijk om je werk goed te controleren. Kijk via de browser of je berekening voor de groene borden klopt. Zo niet, wat ging er fout? Een eventuele oplossing zullen we de volgende keer bespreken."
   ]
  }
 ],
 "metadata": {
  "kernelspec": {
   "display_name": "Python 3 (ipykernel)",
   "language": "python",
   "name": "python3"
  },
  "language_info": {
   "codemirror_mode": {
    "name": "ipython",
    "version": 3
   },
   "file_extension": ".py",
   "mimetype": "text/x-python",
   "name": "python",
   "nbconvert_exporter": "python",
   "pygments_lexer": "ipython3",
   "version": "3.9.12"
  }
 },
 "nbformat": 4,
 "nbformat_minor": 2
}
