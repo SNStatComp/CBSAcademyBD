{
 "cells": [
  {
   "cell_type": "markdown",
   "metadata": {},
   "source": [
    "## Exercise: CBS Innovation"
   ]
  },
  {
   "cell_type": "code",
   "execution_count": 1,
   "metadata": {},
   "outputs": [],
   "source": [
    "import requests\n",
    "from bs4 import BeautifulSoup\n",
    "import time\n",
    "headers = {'user-agent': 'scrapingCourseBot'}"
   ]
  },
  {
   "cell_type": "markdown",
   "metadata": {},
   "source": [
    "- Get CBS innovation page using requests and parse result using BeautifulSoup"
   ]
  },
  {
   "cell_type": "code",
   "execution_count": 19,
   "metadata": {},
   "outputs": [
    {
     "name": "stdout",
     "output_type": "stream",
     "text": [
      "200\n"
     ]
    }
   ],
   "source": [
    "r = requests.get('https://www.cbs.nl/nl-nl/over-ons/innovatie', headers=headers)\n",
    "print(r.status_code)\n",
    "#print(r.text)\n",
    "soup = BeautifulSoup(r.text,'lxml')"
   ]
  },
  {
   "cell_type": "markdown",
   "metadata": {},
   "source": [
    "- Retrieve all titles of all innovation articles on this page using BeautifulSoup and / or a CSS selector and print them"
   ]
  },
  {
   "cell_type": "code",
   "execution_count": 20,
   "metadata": {},
   "outputs": [
    {
     "name": "stdout",
     "output_type": "stream",
     "text": [
      "Vroege loopbaan van jongeren op een nieuwe manier in kaart gebracht\n",
      "Cybercrime achterhalen in aangiften\n",
      "Identificeren van AI-aanbieders\n",
      "Inzicht in consumptie bij supermarkten, project VIPS\n",
      "De economische waarde van de natuur\n",
      "Zonnepanelen automatisch detecteren met luchtfoto’s\n"
     ]
    }
   ],
   "source": [
    "#titles = soup.find_all(\"h3\")\n",
    "titles = soup.select(\"h3\")\n",
    "#print(titles)\n",
    "for title in titles:\n",
    "    print(title.text)"
   ]
  },
  {
   "cell_type": "markdown",
   "metadata": {},
   "source": [
    "- For each innovation article print the URL and the contents of the first paragraph (tag p) of that article"
   ]
  },
  {
   "cell_type": "code",
   "execution_count": 29,
   "metadata": {},
   "outputs": [
    {
     "name": "stdout",
     "output_type": "stream",
     "text": [
      "De analyse brengt ook verschillen naar geslacht en opleidingsniveau in kaart. Hieruit blijkt dat de verschillen tussen mannen en vrouwen beperkt zijn, maar de verschillen naar opleidingsniveau groot: laagopgeleiden hebben minder stabiele loopbanen dan middelbaar en hoogopgeleiden. Vooral laagopgeleide vrouwen hebben vaak loopbanen die gekenmerkt worden door niet werken. Tot slot wordt er een typologie van vroege loopbanen gemaakt die laat zien welke soorten vroege loopbanen er kunnen worden onderscheiden.\n",
      "Met de digitalisering van de samenleving groeit de interesse in cybercrime.\n",
      "\n",
      "Gezien de complexiteit en constant veranderende aard van cybercrime, is de totale omvang van cybercrime op dit moment niet bekend. Om toch enig zicht te krijgen op de omvang ervan, is het van belang om allereerst zicht te krijgen op de hoeveelheid misdrijven, waarbij ICT in de bestaande politieregistraties een rol heeft gespeeld. Dat is nog niet zo eenvoudig.\n",
      "\n",
      "Slechts een klein deel van de relevante delicten kan namelijk uit de huidige registratiemethoden worden afgeleid. Dit betekent dat er handmatig een onderscheid moet worden gemaakt tussen digitale delicten en traditionele vormen van criminaliteit in processen-verbaal. Deze handmatige methode is echter erg tijdrovend en bovendien foutgevoelig.\n",
      "Voor het classificeren van AI-bedrijven, is als startpunt onderzocht of het mogelijk is een model te trainen via supervised machine learning. Het doel van het model is om vast te stellen of een bedrijf ontwikkelaar is van AI-producten en -diensten. Het model maakt hierbij gebruik van (openbare) websiteteksten.\n",
      "\n",
      "Als eerste stap is vastgesteld welke definitie er moest worden gehanteerd voor het begrip AI. In ons onderzoek hebben we de definitie uit het strategisch actieplan voor artificiële intelligentie overgenomen. In dit rapport wordt AI gedefinieerd als: systemen die intelligent gedrag vertonen door hun omgeving te analyseren en - met een zekere mate van zelfstandigheid - actie ondernemen om specifieke doelen te bereiken. \n",
      "Vanuit het project is al een aantal verbeterpunten genoteerd die in vervolgonderzoek mogelijk verder worden opgepakt. In de huidige methode is ervoor gekozen om volumes op indirecte wijze af te leiden, namelijk door middel van correctie voor prijseffecten. Voor deze berekening worden prijsontwikkelingen van de CPI gebruikt en die beschrijven de gemiddelde prijsontwikkeling binnen een productgroep. Door met de CPI te corrigeren drukt het volumecijfer niet alleen uit hoeveel er verkocht is, maar kan het ook een substitutie-effect bevatten. In sommige perioden, bijvoorbeeld rond de feestdagen wanneer het consumptiepatroon typisch verandert, kan het substitutie-effect zwaarder doorwegen dan in andere perioden: er worden in deze periode doorgaans luxere artikelen gekocht. In vervolgonderzoek zal bekeken worden of de verkoopaantallen in de scannerdata direct gebruikt kunnen worden voor het berekenen van verkoopvolumes.\n",
      "Hoeveel draagt de natuur bij aan de economie? In de nationale rekeningen, het systeem waarmee de ontwikkeling van de economie wordt gemeten, is die bijdrage niet opgenomen. De natuur is als het ware een onzichtbare kracht die vaak een essentiële bijdrage levert aan onze economie. Voor veel beleid is juist goede informatie nodig over het belang van de natuur. Denk bijvoorbeeld aan landbouwbeleid, natuurbescherming, en woningbouw.\n",
      "Zonnestroom is een belangrijke hernieuwbare energiebron. In dit artikel wordt het onderzoek toegelicht dat het CBS uitvoert om de aantallen en de locaties van zonnepanelen met behulp van deep learning methoden nauwkeuriger in kaart te brengen.\n"
     ]
    }
   ],
   "source": [
    "# First create your code for one article\n",
    "blokjes = soup.find_all(\"a\", class_=\"thumbnail\")\n",
    "#print(blokjes)\n",
    "\n",
    "for blokje in blokjes :\n",
    "    link = blokje['href']\n",
    "    #print(link)\n",
    "    \n",
    "    r1 = requests.get(link, headers=headers)\n",
    "    #print(r.status_code)\n",
    "    \n",
    "    soup1 = BeautifulSoup(r1.text, 'lxml')\n",
    "    par = soup1.find('p')\n",
    "    print(par.text)\n",
    "    #print(soup1)\n",
    "    \n",
    "    #break\n",
    "    \n",
    "    time.sleep(1)"
   ]
  },
  {
   "cell_type": "code",
   "execution_count": null,
   "metadata": {},
   "outputs": [],
   "source": [
    "# Then loop through all articles\n"
   ]
  },
  {
   "cell_type": "markdown",
   "metadata": {},
   "source": [
    "- Option: retrieve all urls to images in all innovation articles and show them "
   ]
  },
  {
   "cell_type": "code",
   "execution_count": 58,
   "metadata": {},
   "outputs": [
    {
     "name": "stdout",
     "output_type": "stream",
     "text": [
      "<h3>Vroege loopbaan van jongeren op een nieuwe manier in kaart gebracht</h3>\n",
      "https://www.cbs.nl/nl-nl/over-ons/innovatie/project/vroege-loopbaan-van-jongeren-op-een-nieuwe-manier-in-kaart-gebracht\n",
      "https://cdn.cbs.nl/images/415669654b3563495165415738703042514b4c376c513d3d/900x450.jpg\n",
      "********************\n",
      "<h3>Cybercrime achterhalen in aangiften</h3>\n",
      "https://www.cbs.nl/nl-nl/over-ons/innovatie/project/cybercrime-achterhalen-in-aangiften\n",
      "********************\n",
      "<h3>Identificeren van AI-aanbieders</h3>\n",
      "https://www.cbs.nl/nl-nl/over-ons/innovatie/project/identificeren-van-ai-aanbieders\n",
      "********************\n",
      "<h3>Inzicht in consumptie bij supermarkten, project VIPS</h3>\n",
      "https://www.cbs.nl/nl-nl/over-ons/innovatie/project/inzicht-in-consumptie-bij-supermarkten-project-vips\n",
      "********************\n",
      "<h3>De economische waarde van de natuur</h3>\n",
      "https://www.cbs.nl/nl-nl/over-ons/innovatie/project/de-economische-waarde-van-de-natuur\n",
      "/-/media/innovatie/landbouw.png?la=nl-nl&hash=F282FDA3EFD08FDCD45C4AD3D2652ED3\n",
      "/-/media/innovatie/koolstofvastlegging.png?la=nl-nl&hash=E0FA84FB4EB841CE15CC0D521A69229D\n",
      "/-/media/innovatie/recreatie-toerisme.png?la=nl-nl&hash=DEB0D4B3679388E77B2E984F6117DAFD\n",
      "********************\n",
      "<h3>Zonnepanelen automatisch detecteren met luchtfoto’s</h3>\n",
      "https://www.cbs.nl/nl-nl/over-ons/innovatie/project/zonnepanelen-automatisch-detecteren-met-luchtfoto-s\n",
      "/-/media/_afbeeldingen/2018/51/deep-learning.jpg?la=nl-nl&hash=E9EA719E3ADB8E4C6C2EE3F2F4736662\n",
      "********************\n"
     ]
    }
   ],
   "source": [
    "blokjes = soup.find_all(\"a\", class_=\"thumbnail\")\n",
    "#print(blokjes)\n",
    "\n",
    "for blokje in blokjes :\n",
    "    link = blokje['href']\n",
    "    title = blokje.find('h3')\n",
    "    print(title)\n",
    "    print(link)\n",
    "    \n",
    "    r1 = requests.get(link, headers=headers)\n",
    "    #print(r.status_code)\n",
    "    \n",
    "    soup1 = BeautifulSoup(r1.text, 'lxml')\n",
    "    article = soup1.select(\"article section\")[0]\n",
    "    #print(article)\n",
    "    images = article.select('img')\n",
    "    \n",
    "    for img in images:\n",
    "        print(img['src'])\n",
    "    \n",
    "    #break\n",
    "    print('********************')\n",
    "    \n",
    "    time.sleep(1)"
   ]
  }
 ],
 "metadata": {
  "kernelspec": {
   "display_name": "Python 3 (ipykernel)",
   "language": "python",
   "name": "python3"
  },
  "language_info": {
   "codemirror_mode": {
    "name": "ipython",
    "version": 3
   },
   "file_extension": ".py",
   "mimetype": "text/x-python",
   "name": "python",
   "nbconvert_exporter": "python",
   "pygments_lexer": "ipython3",
   "version": "3.9.12"
  }
 },
 "nbformat": 4,
 "nbformat_minor": 2
}
