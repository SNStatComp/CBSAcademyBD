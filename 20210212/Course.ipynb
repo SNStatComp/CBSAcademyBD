{
 "cells": [
  {
   "cell_type": "markdown",
   "metadata": {},
   "source": [
    "# Course on webscraping\n",
    "\n",
    "*By Olav ten Bosch, Dick Windmeijer and Marijn Detiger*"
   ]
  },
  {
   "cell_type": "code",
   "execution_count": null,
   "metadata": {},
   "outputs": [],
   "source": [
    "# Imports:\n",
    "import requests                  # for issueing HTTP requests\n",
    "from bs4 import BeautifulSoup    # for parsing and navigating HTML results\n",
    "import time                      # for sleeping between multiple requests"
   ]
  },
  {
   "cell_type": "markdown",
   "metadata": {},
   "source": [
    "#### Documentation:\n",
    "- [Requests.py](http://docs.python-requests.org)\n",
    "- [Beautifulsoup.py](https://www.crummy.com/software/BeautifulSoup/bs4/doc/)"
   ]
  },
  {
   "cell_type": "markdown",
   "metadata": {},
   "source": [
    "### Request, headers, user-agent, parameters, sleeping:"
   ]
  },
  {
   "cell_type": "code",
   "execution_count": null,
   "metadata": {},
   "outputs": [],
   "source": [
    "# Retrieving home page of Statistics Netherlands:\n",
    "r1 = requests.get('https://www.cbs.nl/en-gb')\n",
    "\n",
    "#r1.headers['content-type']\n",
    "print(r1.status_code, r1.headers['content-type'], r1.encoding)\n",
    "#print(r1.headers)\n",
    "#print(r1.text)"
   ]
  },
  {
   "cell_type": "code",
   "execution_count": null,
   "metadata": {},
   "outputs": [],
   "source": [
    "# Retrieving home page of Statistics Netherlands with user-agent string:\n",
    "headers = {'user-agent': 'scrapingCourseBot'}\n",
    "r2 = requests.get('https://www.cbs.nl/en-gb', headers=headers)\n",
    "\n",
    "# Headers of the request:\n",
    "print(r2.request.headers)\n",
    "\n",
    "# Headers of the response:\n",
    "print(r2.headers)"
   ]
  },
  {
   "cell_type": "code",
   "execution_count": null,
   "metadata": {},
   "outputs": [],
   "source": [
    "# Issue a request with parameters:\n",
    "pars = {'products': 2, 'years': 2}\n",
    "r3 = requests.get('http://testing-ground.scraping.pro/table?', params=pars, headers=headers)        \n",
    "#print(r3.url)\n",
    "#print(r3.text)"
   ]
  },
  {
   "cell_type": "code",
   "execution_count": null,
   "metadata": {},
   "outputs": [],
   "source": [
    "# In a loop, always add some idle time (time.sleep) to not overload server:\n",
    "for products in range(1, 6):\n",
    "    for years in range(1, 6):\n",
    "        pars = {'products': products, 'years': years}\n",
    "        r4 = requests.get('http://testing-ground.scraping.pro/table?', params=pars, headers=headers)\n",
    "        print(r4.url, r4.status_code)\n",
    "        time.sleep(1)"
   ]
  },
  {
   "cell_type": "markdown",
   "metadata": {},
   "source": [
    "### Soup with native syntax (find, find_all):"
   ]
  },
  {
   "cell_type": "code",
   "execution_count": null,
   "metadata": {},
   "outputs": [],
   "source": [
    "# Using soup find and find_all to access parts of page:\n",
    "r4 = requests.get('https://www.cbs.nl/en-gb')\n",
    "soup = BeautifulSoup(r4.text, 'lxml')              # use lxml, is faster and more relaxed in parsing \n",
    "\n",
    "# find returns the first element:\n",
    "print(soup.find(\"h2\"))\n",
    "#print(soup.find(\"h2\").text)\n",
    "#print(soup.find(\"h3\").text)"
   ]
  },
  {
   "cell_type": "code",
   "execution_count": null,
   "metadata": {},
   "outputs": [],
   "source": [
    "# find the first element which belongs to a class:\n",
    "part = soup.find(\"div\", class_=\"thumbnail\")\n",
    "print(part)"
   ]
  },
  {
   "cell_type": "code",
   "execution_count": null,
   "metadata": {},
   "outputs": [],
   "source": [
    "# find the first element with an id:\n",
    "aside = soup.find(\"section\", id=\"aside-main\")\n",
    "#print(aside)"
   ]
  },
  {
   "cell_type": "code",
   "execution_count": null,
   "metadata": {},
   "outputs": [],
   "source": [
    "# You can use find on a find result:\n",
    "print(part.find(\"h3\").text)\n",
    "print(soup.find(\"div\", class_=\"thumbnail\").find(\"h3\").text)"
   ]
  },
  {
   "cell_type": "code",
   "execution_count": null,
   "metadata": {},
   "outputs": [],
   "source": [
    "# how to get a URL from an a tag:\n",
    "print(part.find(\"a\")['href'])"
   ]
  },
  {
   "cell_type": "code",
   "execution_count": null,
   "metadata": {},
   "outputs": [],
   "source": [
    "# find_all returns a list:\n",
    "print(soup.find_all(\"h2\"))\n",
    "print(\"\")\n",
    "print(soup.find_all(\"h3\"))"
   ]
  },
  {
   "cell_type": "code",
   "execution_count": null,
   "metadata": {},
   "outputs": [],
   "source": [
    "# You can iterate through a list output of find_all:\n",
    "# Get the URLS to all news articles of CBS using find_all and find:\n",
    "articles = soup.find_all(\"div\", class_='thumbnail')\n",
    "for article in articles:\n",
    "    link = article.find(\"a\")['href']   # we retrieve the attribute href of the a tag\n",
    "    print(link)"
   ]
  },
  {
   "cell_type": "code",
   "execution_count": null,
   "metadata": {},
   "outputs": [],
   "source": [
    "# Follow the links and get all texts of the news articles:\n",
    "articles = soup.find_all(\"div\", class_='thumbnail')\n",
    "links3 = []\n",
    "for article in articles:\n",
    "    links3.append(article.find(\"a\")['href'])\n",
    "\n",
    "for link in links3:\n",
    "    r = requests.get('https://www.cbs.nl'+link)\n",
    "    #print(r.url)\n",
    "    soup2 = BeautifulSoup(r.text, 'lxml')\n",
    "    leadtext = soup2.find('section', class_='leadtext')\n",
    "    if leadtext is None: continue\n",
    "    print(leadtext.text)\n",
    "    time.sleep(1) # in robots.txt CBS advises a delay of 1 second"
   ]
  },
  {
   "cell_type": "markdown",
   "metadata": {},
   "source": [
    "### Soup with CSS selectors: (select):"
   ]
  },
  {
   "cell_type": "code",
   "execution_count": null,
   "metadata": {},
   "outputs": [],
   "source": [
    "# Get page in soup:\n",
    "r5 = requests.get('https://www.cbs.nl/en-gb')\n",
    "soup = BeautifulSoup(r5.text, 'lxml')"
   ]
  },
  {
   "cell_type": "code",
   "execution_count": null,
   "metadata": {},
   "outputs": [],
   "source": [
    "# Find all elements with a tag:\n",
    "\n",
    "# find_all:\n",
    "#print(soup.find_all(\"h2\"))\n",
    "#print(soup.find_all(\"h3\"))\n",
    "\n",
    "#CSS:\n",
    "print(soup.select(\"h2\"))\n",
    "print(soup.select(\"h3\"))"
   ]
  },
  {
   "cell_type": "code",
   "execution_count": null,
   "metadata": {},
   "outputs": [],
   "source": [
    "# Find all elements belonging to a class:\n",
    "\n",
    "# find_all:\n",
    "#print(soup.find_all(\"div\", class_=\"thumbnail\"))\n",
    "\n",
    "# CSS:\n",
    "print(soup.select(\"div.thumbnail\"))"
   ]
  },
  {
   "cell_type": "code",
   "execution_count": null,
   "metadata": {},
   "outputs": [],
   "source": [
    "# find all elements with an id:\n",
    "\n",
    "# find_all:\n",
    "#print(soup.find_all(\"section\", id=\"aside-main\"))\n",
    "\n",
    "# CSS:\n",
    "print(soup.select(\"section#aside-main\"))"
   ]
  },
  {
   "cell_type": "code",
   "execution_count": null,
   "metadata": {},
   "outputs": [],
   "source": [
    "# The power of CSS is in traversing the tree in one statement:\n",
    "# Get all headlines via a CSS selector:\n",
    "headlines = soup.select(\"div.thumbnail h3\")\n",
    "for headline in headlines:\n",
    "    print(headline.text)"
   ]
  },
  {
   "cell_type": "code",
   "execution_count": null,
   "metadata": {},
   "outputs": [],
   "source": [
    "# Get all links of thumbnails via CSS:\n",
    "thumbnails = soup.select(\"div.thumbnail a\")\n",
    "for thumbnail in thumbnails:\n",
    "    print(thumbnail['href'])"
   ]
  },
  {
   "cell_type": "code",
   "execution_count": null,
   "metadata": {},
   "outputs": [],
   "source": [
    "# Get all h3s in the aside section:\n",
    "aside_H3s = soup.select(\"section#aside-main h3\")\n",
    "for a in aside_H3s:\n",
    "    print(a.text)"
   ]
  },
  {
   "cell_type": "code",
   "execution_count": null,
   "metadata": {},
   "outputs": [],
   "source": []
  }
 ],
 "metadata": {
  "kernelspec": {
   "display_name": "Python 3",
   "language": "python",
   "name": "python3"
  },
  "language_info": {
   "codemirror_mode": {
    "name": "ipython",
    "version": 3
   },
   "file_extension": ".py",
   "mimetype": "text/x-python",
   "name": "python",
   "nbconvert_exporter": "python",
   "pygments_lexer": "ipython3",
   "version": "3.7.3"
  }
 },
 "nbformat": 4,
 "nbformat_minor": 2
}
