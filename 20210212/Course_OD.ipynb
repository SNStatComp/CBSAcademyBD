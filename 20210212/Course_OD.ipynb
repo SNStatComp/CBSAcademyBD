{
 "cells": [
  {
   "cell_type": "code",
   "execution_count": 61,
   "metadata": {},
   "outputs": [],
   "source": [
    "import requests                  # for issueing HTTP requests\n",
    "import json                      # for processing the json data\n",
    "import time                      # for sleeping between multiple requests\n",
    "from datetime import datetime    # for processing timestamps\n",
    "headers = {'user-agent': 'scrapingCourseBot;https://github.com/SNStatComp/CourseWebscraping'}"
   ]
  },
  {
   "cell_type": "markdown",
   "metadata": {},
   "source": [
    "#### Documentation:\n",
    "- [Requests.py](http://docs.python-requests.org)\n",
    "- [json](https://docs.python.org/3/library/json.html)"
   ]
  },
  {
   "cell_type": "code",
   "execution_count": 62,
   "metadata": {},
   "outputs": [
    {
     "name": "stdout",
     "output_type": "stream",
     "text": [
      "https://api.irail.be/stations/?format=json&lang=en 200\n"
     ]
    }
   ],
   "source": [
    "# Example on Irail https://docs.irail.be/\n",
    "# Retrieve the list of stations:\n",
    "params = {'format': 'json', 'lang': 'en'}\n",
    "r1 = requests.get('https://api.irail.be/stations', headers=headers, params=params)\n",
    "print(r1.url, r1.status_code)"
   ]
  },
  {
   "cell_type": "code",
   "execution_count": 63,
   "metadata": {},
   "outputs": [
    {
     "name": "stdout",
     "output_type": "stream",
     "text": [
      "Brussels-Luxemburg/Brussels-Luxembourg BE.NMBS.008811304\n",
      "Brussels-Schuman BE.NMBS.008811916\n",
      "Brussels-North BE.NMBS.008812005\n",
      "Brussels-Central BE.NMBS.008813003\n",
      "Brussels-Chapelle/Brussels-Kapellekerk BE.NMBS.008813037\n",
      "Brussels-Congres BE.NMBS.008813045\n",
      "Brussels-South/Brussels-Midi BE.NMBS.008814001\n",
      "Brussels-West BE.NMBS.008815040\n",
      "Brussels Airport - Zaventem BE.NMBS.008819406\n"
     ]
    }
   ],
   "source": [
    "# load the json text into a Python structure:\n",
    "stations = json.loads(r1.text)['station']\n",
    "\n",
    "# For all stations, search their name and if Brussel print id:\n",
    "for station in stations:\n",
    "    if ('Brussels' in station['name']):\n",
    "        print(station['name'], station['id'])\n"
   ]
  },
  {
   "cell_type": "code",
   "execution_count": 72,
   "metadata": {},
   "outputs": [
    {
     "name": "stdout",
     "output_type": "stream",
     "text": [
      "https://api.irail.be/liveboard/?format=json&lang=en&id=BE.NMBS.008813003 200\n"
     ]
    }
   ],
   "source": [
    "# Retrieve all connections from Brussels-Contral:\n",
    "params = {'format': 'json', 'lang': 'en', 'id': 'BE.NMBS.008813003'}\n",
    "r2 = requests.get('https://api.irail.be/liveboard', headers=headers, params=params)\n",
    "print(r2.url, r2.status_code)"
   ]
  },
  {
   "cell_type": "code",
   "execution_count": 75,
   "metadata": {},
   "outputs": [
    {
     "name": "stdout",
     "output_type": "stream",
     "text": [
      "Brussels Airport - Zaventem BE.NMBS.IC2312 2021-01-19 15:28:00 3\n",
      "Brussels Airport - Zaventem BE.NMBS.IC2814 2021-01-19 15:36:00 1\n",
      "Brussels Airport - Zaventem BE.NMBS.IC1914 2021-01-19 15:56:00 3\n"
     ]
    }
   ],
   "source": [
    "# load the json text into a Python structure and print trains to the airport:\n",
    "departures = json.loads(r2.text)['departures']\n",
    "for departure in departures['departure']:\n",
    "    if ('Zaventem' in departure['station']):\n",
    "        time = datetime.fromtimestamp(int(departure['time']))\n",
    "        print(departure['stationinfo']['name'], departure['vehicle'], time, departure['platform'])\n"
   ]
  },
  {
   "cell_type": "code",
   "execution_count": 86,
   "metadata": {},
   "outputs": [
    {
     "name": "stdout",
     "output_type": "stream",
     "text": [
      "https://api.irail.be/vehicle/?format=json&lang=en&id=BE.NMBS.IC2312 200\n"
     ]
    }
   ],
   "source": [
    "# Get details of one of the trains:\n",
    "params = {'format': 'json', 'lang': 'en', 'id': 'BE.NMBS.IC2312'}\n",
    "r3 = requests.get('https://api.irail.be/vehicle', headers=headers, params=params)\n",
    "print(r3.url, r3.status_code)\n"
   ]
  },
  {
   "cell_type": "code",
   "execution_count": 87,
   "metadata": {},
   "outputs": [
    {
     "name": "stdout",
     "output_type": "stream",
     "text": [
      "4.336531 50.835707\n"
     ]
    }
   ],
   "source": [
    "# Actual position of that train:\n",
    "vehinfo = json.loads(r3.text)['vehicleinfo']\n",
    "print(vehinfo['locationX'], vehinfo['locationY'])\n"
   ]
  },
  {
   "cell_type": "code",
   "execution_count": 90,
   "metadata": {},
   "outputs": [
    {
     "name": "stdout",
     "output_type": "stream",
     "text": [
      "Oostende 12:58:00\n",
      "Brugge 13:13:00\n",
      "Zedelgem 13:22:00\n",
      "Torhout 13:29:00\n",
      "Lichtervelde 13:35:00\n",
      "Roeselare 13:43:00\n",
      "Izegem 13:49:00\n",
      "Ingelmunster 13:53:00\n",
      "Kortrijk 14:12:00\n",
      "Oudenaarde 14:33:00\n",
      "Zottegem 14:47:00\n",
      "Denderleeuw 15:05:00\n",
      "Brussels-South/Brussels-Midi 15:23:00\n",
      "Brussels-Central 15:28:00\n",
      "Brussels-North 15:34:00\n",
      "Brussels Airport - Zaventem 15:48:00\n"
     ]
    }
   ],
   "source": [
    "# All stops of that particular train:\n",
    "stops = json.loads(r3.text)['stops']['stop']\n",
    "for stop in stops:\n",
    "    time = datetime.fromtimestamp(int(stop['time']))\n",
    "    print(stop['station'], time.strftime(\"%H:%M:%S\"))"
   ]
  }
 ],
 "metadata": {
  "kernelspec": {
   "display_name": "Python 3",
   "language": "python",
   "name": "python3"
  },
  "language_info": {
   "codemirror_mode": {
    "name": "ipython",
    "version": 3
   },
   "file_extension": ".py",
   "mimetype": "text/x-python",
   "name": "python",
   "nbconvert_exporter": "python",
   "pygments_lexer": "ipython3",
   "version": "3.8.5"
  }
 },
 "nbformat": 4,
 "nbformat_minor": 4
}
