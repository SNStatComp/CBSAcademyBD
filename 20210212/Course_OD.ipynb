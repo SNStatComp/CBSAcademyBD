{
 "cells": [
  {
   "cell_type": "code",
   "execution_count": null,
   "metadata": {},
   "outputs": [],
   "source": [
    "import requests                  # for issueing HTTP requests\n",
    "import json                      # for processing the json data\n",
    "import time                      # for sleeping between multiple requests\n",
    "from datetime import datetime    # for processing timestamps\n",
    "headers = {'user-agent': 'scrapingCourseBot;https://github.com/SNStatComp/CourseWebscraping'}"
   ]
  },
  {
   "cell_type": "markdown",
   "metadata": {},
   "source": [
    "#### Documentation:\n",
    "- [Requests.py](http://docs.python-requests.org)\n",
    "- [json](https://docs.python.org/3/library/json.html)"
   ]
  },
  {
   "cell_type": "code",
   "execution_count": null,
   "metadata": {},
   "outputs": [],
   "source": [
    "# Example on Irail https://docs.irail.be/\n",
    "# Retrieve the list of stations:\n",
    "params = {'format': 'json', 'lang': 'en'}\n",
    "r1 = requests.get('https://api.irail.be/stations', headers=headers, params=params)\n",
    "print(r1.url, r1.status_code)"
   ]
  },
  {
   "cell_type": "code",
   "execution_count": null,
   "metadata": {},
   "outputs": [],
   "source": [
    "# load the json text into a Python structure:\n",
    "stations = json.loads(r1.text)['station']\n",
    "\n",
    "# For all stations, search their name and if Brussel print id:\n",
    "for station in stations:\n",
    "    if ('Brussels' in station['name']):\n",
    "        print(station['name'], station['id'])\n"
   ]
  },
  {
   "cell_type": "code",
   "execution_count": null,
   "metadata": {},
   "outputs": [],
   "source": [
    "# Retrieve all connections from Brussels-Contral:\n",
    "params = {'format': 'json', 'lang': 'en', 'id': 'BE.NMBS.008813003'}\n",
    "r2 = requests.get('https://api.irail.be/liveboard', headers=headers, params=params)\n",
    "print(r2.url, r2.status_code)"
   ]
  },
  {
   "cell_type": "code",
   "execution_count": null,
   "metadata": {},
   "outputs": [],
   "source": [
    "# load the json text into a Python structure and print trains to the airport:\n",
    "departures = json.loads(r2.text)['departures']\n",
    "for departure in departures['departure']:\n",
    "    if ('Zaventem' in departure['station']):\n",
    "        time = datetime.fromtimestamp(int(departure['time']))\n",
    "        print(departure['stationinfo']['name'], departure['vehicle'], time, departure['platform'])\n"
   ]
  },
  {
   "cell_type": "code",
   "execution_count": null,
   "metadata": {},
   "outputs": [],
   "source": [
    "# Get details of one of the trains:\n",
    "params = {'format': 'json', 'lang': 'en', 'id': 'BE.NMBS.IC2312'}\n",
    "r3 = requests.get('https://api.irail.be/vehicle', headers=headers, params=params)\n",
    "print(r3.url, r3.status_code)\n"
   ]
  },
  {
   "cell_type": "code",
   "execution_count": null,
   "metadata": {},
   "outputs": [],
   "source": [
    "# Actual position of that train:\n",
    "vehinfo = json.loads(r3.text)['vehicleinfo']\n",
    "print(vehinfo['locationX'], vehinfo['locationY'])\n"
   ]
  },
  {
   "cell_type": "code",
   "execution_count": null,
   "metadata": {},
   "outputs": [],
   "source": [
    "# All stops of that particular train:\n",
    "stops = json.loads(r3.text)['stops']['stop']\n",
    "for stop in stops:\n",
    "    time = datetime.fromtimestamp(int(stop['time']))\n",
    "    print(stop['station'], time.strftime(\"%H:%M:%S\"))"
   ]
  }
 ],
 "metadata": {
  "kernelspec": {
   "display_name": "Python 3",
   "language": "python",
   "name": "python3"
  },
  "language_info": {
   "codemirror_mode": {
    "name": "ipython",
    "version": 3
   },
   "file_extension": ".py",
   "mimetype": "text/x-python",
   "name": "python",
   "nbconvert_exporter": "python",
   "pygments_lexer": "ipython3",
   "version": "3.8.5"
  }
 },
 "nbformat": 4,
 "nbformat_minor": 4
}
