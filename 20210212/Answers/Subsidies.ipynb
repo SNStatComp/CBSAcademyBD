{
 "cells": [
  {
   "cell_type": "code",
   "execution_count": null,
   "metadata": {},
   "outputs": [],
   "source": [
    "import requests                  # for issueing HTTP requests\n",
    "import json                      # for processing the json data\n",
    "import time                      # for sleeping between multiple requests\n",
    "headers = {'user-agent': 'scrapingCourseBot'}"
   ]
  },
  {
   "cell_type": "markdown",
   "metadata": {},
   "source": [
    "#### Documentation:\n",
    "- [Requests.py](http://docs.python-requests.org)\n",
    "- [json](https://docs.python.org/3/library/json.html)"
   ]
  },
  {
   "cell_type": "code",
   "execution_count": null,
   "metadata": {},
   "outputs": [],
   "source": [
    "# 2. Hoeveel heeft de gemeente Langsingerland aan subsidies saangevraagd in 2020?\n",
    "# Results fit in one page:\n",
    "params = {'jaar': 2020, 'aanvragernaam': 'Gemeente Lansingerland'}\n",
    "r1 = requests.get('https://subsidieregister.zuid-holland.nl/api/subsidies', headers=headers, params=params)\n",
    "print(r1.url)\n",
    "print(r1.status_code, r1.headers['content-type'], r1.encoding)"
   ]
  },
  {
   "cell_type": "code",
   "execution_count": null,
   "metadata": {},
   "outputs": [],
   "source": [
    "# Process results:\n",
    "# Load the json text into a Python json structure:\n",
    "result = json.loads(r1.text)\n",
    "\n",
    "# select the results parts with subsidie info: \n",
    "subsidies = result['results'] \n",
    "\n",
    "# loop through the subsidies and calculate sum: \n",
    "sum = 0\n",
    "for subsidie in subsidies:\n",
    "    #print(subsidie['jaar'], subsidie['aangevraagdbedrag'], subsidie['verleendbedrag'])\n",
    "    sum += subsidie['verleendbedrag']\n",
    "print(sum)"
   ]
  },
  {
   "cell_type": "code",
   "execution_count": null,
   "metadata": {},
   "outputs": [],
   "source": [
    "# 2. Hoeveel is er in alle jaren uitgekeerd aan partijen die vanwege de AVG niet in het register genoemd mogen worden?\n",
    "# Results are spread over multiple pages:\n",
    "pageno = 1\n",
    "sum = 0\n",
    "\n",
    "while True:\n",
    "    \n",
    "    params = {'aanvragernaam': 'AVG restrictie', 'pageno': pageno}\n",
    "    r1 = requests.get('https://subsidieregister.zuid-holland.nl/api/subsidies', headers=headers, params=params)\n",
    "    print(r1.url, r1.status_code)\n",
    "    \n",
    "    results = json.loads(r1.text)\n",
    "    subsidies = results['results']\n",
    "    for subsidie in subsidies:\n",
    "        #print(subsidie['jaar'], subsidie['verleendbedrag'])\n",
    "        sum += subsidie['verleendbedrag']\n",
    "    \n",
    "    if (pageno > results['paging']['totaalnrofpages']):\n",
    "        break\n",
    "    \n",
    "    pageno += 1\n",
    "    time.sleep(1)\n",
    "\n",
    "print(sum)"
   ]
  },
  {
   "cell_type": "code",
   "execution_count": null,
   "metadata": {},
   "outputs": [],
   "source": []
  }
 ],
 "metadata": {
  "kernelspec": {
   "display_name": "Python 3",
   "language": "python",
   "name": "python3"
  },
  "language_info": {
   "codemirror_mode": {
    "name": "ipython",
    "version": 3
   },
   "file_extension": ".py",
   "mimetype": "text/x-python",
   "name": "python",
   "nbconvert_exporter": "python",
   "pygments_lexer": "ipython3",
   "version": "3.8.5"
  }
 },
 "nbformat": 4,
 "nbformat_minor": 4
}
