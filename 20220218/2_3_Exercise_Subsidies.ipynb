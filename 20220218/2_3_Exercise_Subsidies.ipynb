{
 "cells": [
  {
   "cell_type": "code",
   "execution_count": null,
   "metadata": {},
   "outputs": [],
   "source": [
    "import requests                  # for issueing HTTP requests\n",
    "import json                      # for processing the json data\n",
    "import time                      # for sleeping between multiple requests\n",
    "headers = {'user-agent': 'scrapingCourseBot'}"
   ]
  },
  {
   "cell_type": "markdown",
   "metadata": {},
   "source": [
    "#### Documentation:\n",
    "- [Requests.py](http://docs.python-requests.org)\n",
    "- [json](https://docs.python.org/3/library/json.html)\n",
    "- [API specification](https://subsidieregister.zuid-holland.nl/api/)"
   ]
  },
  {
   "cell_type": "code",
   "execution_count": null,
   "metadata": {},
   "outputs": [],
   "source": [
    "# 2. Hoeveel heeft de gemeente Langsingerland aan subsidies aangevraagd in 2020?\n",
    "# Gebruik de api op https://subsidieregister.zuid-holland.nl/api/\n",
    "\n",
    "params = {'jaar': ????, 'aanvragernaam': ???? }\n",
    "r1 = requests.get(????, headers=headers, params=params)\n",
    "#print(r1.url)\n",
    "#print(r1.text)"
   ]
  },
  {
   "cell_type": "code",
   "execution_count": null,
   "metadata": {},
   "outputs": [],
   "source": [
    "# Tel de individuele posten bij elkaar op:\n",
    "result = json.loads(????)\n",
    "\n",
    "????"
   ]
  },
  {
   "cell_type": "code",
   "execution_count": null,
   "metadata": {},
   "outputs": [],
   "source": [
    "# 3 Experts: Hoeveel is er in alle jaren uitgekeerd aan partijen die vanwege de AVG niet in het register genoemd mogen worden?\n",
    "# In de toelichting is te vinden dat deze zijn te vinden onder de naam \"AVG restrictie\"\n",
    "\n",
    "????\n"
   ]
  }
 ],
 "metadata": {
  "kernelspec": {
   "display_name": "Python 3 (ipykernel)",
   "language": "python",
   "name": "python3"
  },
  "language_info": {
   "codemirror_mode": {
    "name": "ipython",
    "version": 3
   },
   "file_extension": ".py",
   "mimetype": "text/x-python",
   "name": "python",
   "nbconvert_exporter": "python",
   "pygments_lexer": "ipython3",
   "version": "3.9.7"
  }
 },
 "nbformat": 4,
 "nbformat_minor": 4
}
