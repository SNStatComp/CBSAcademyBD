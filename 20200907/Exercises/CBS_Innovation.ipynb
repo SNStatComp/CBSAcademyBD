{
 "cells": [
  {
   "cell_type": "markdown",
   "metadata": {},
   "source": [
    "## Exercise: CBS Innovation"
   ]
  },
  {
   "cell_type": "code",
   "execution_count": null,
   "metadata": {},
   "outputs": [],
   "source": [
    "import requests\n",
    "from bs4 import BeautifulSoup\n",
    "import time"
   ]
  },
  {
   "cell_type": "code",
   "execution_count": null,
   "metadata": {},
   "outputs": [],
   "source": [
    "www = 'https://www.cbs.nl'\n",
    "r = requests.get(f'{www}/en-gb/about-us/innovation')\n",
    "print(r.status_code)\n",
    "soup = BeautifulSoup(r.text,'lxml')"
   ]
  },
  {
   "cell_type": "markdown",
   "metadata": {},
   "source": [
    "- Retrieve a list of titles of all innovation articles on this page using a CSS selector and print them"
   ]
  },
  {
   "cell_type": "code",
   "execution_count": null,
   "metadata": {},
   "outputs": [],
   "source": [
    "# Solution using a CSS selector:\n",
    "for h3 in soup.select('section div div h3'):\n",
    "    print(h3.text)"
   ]
  },
  {
   "cell_type": "code",
   "execution_count": null,
   "metadata": {},
   "outputs": [],
   "source": [
    "# An alternative solution using find_all:\n",
    "for i in soup.find_all('div', class_='caption'):\n",
    "    print(i.h3.text)"
   ]
  },
  {
   "cell_type": "markdown",
   "metadata": {},
   "source": [
    "- For each innovation article page retrieve the first 500 characters of the text and print it"
   ]
  },
  {
   "cell_type": "code",
   "execution_count": null,
   "metadata": {},
   "outputs": [],
   "source": [
    "# First try your code for one article\n",
    "r = requests.get('https://www.cbs.nl/en-gb/about-us/innovation/project/new-quality-criteria-for-integrating-new-data-and-methods-in-statistics')\n",
    "s = BeautifulSoup(r.text, 'lxml')\n",
    "sel = s.select('section')\n",
    "print(sel)\n",
    "print(sel[0].text[:500].strip())"
   ]
  },
  {
   "cell_type": "code",
   "execution_count": null,
   "metadata": {},
   "outputs": [],
   "source": [
    "# Then loop through all articles\n",
    "for a in soup.select('section div div a'):\n",
    "    art = a['href']\n",
    "    r = requests.get(f'{www}{art}')\n",
    "    s = BeautifulSoup(r.text, 'lxml')\n",
    "    sel = s.select('section')\n",
    "    print(sel[0].text[:500].strip())\n",
    "    print('********************')\n",
    "    time.sleep(1) # in robots.txt CBS advises a delay of 1 second"
   ]
  },
  {
   "cell_type": "markdown",
   "metadata": {},
   "source": [
    "- Option: retrieve all urls to images in all innovation articles and show them "
   ]
  },
  {
   "cell_type": "code",
   "execution_count": null,
   "metadata": {},
   "outputs": [],
   "source": []
  }
 ],
 "metadata": {
  "kernelspec": {
   "display_name": "Python 3",
   "language": "python",
   "name": "python3"
  },
  "language_info": {
   "codemirror_mode": {
    "name": "ipython",
    "version": 3
   },
   "file_extension": ".py",
   "mimetype": "text/x-python",
   "name": "python",
   "nbconvert_exporter": "python",
   "pygments_lexer": "ipython3",
   "version": "3.7.3"
  }
 },
 "nbformat": 4,
 "nbformat_minor": 2
}
