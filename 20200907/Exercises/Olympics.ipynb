{
 "cells": [
  {
   "cell_type": "markdown",
   "metadata": {},
   "source": [
    "## Exercise: Olympics"
   ]
  },
  {
   "cell_type": "code",
   "execution_count": null,
   "metadata": {},
   "outputs": [],
   "source": [
    "import requests\n",
    "from bs4 import BeautifulSoup"
   ]
  },
  {
   "cell_type": "markdown",
   "metadata": {},
   "source": [
    "- Retrieve a list of Olympic **summer sports** using requests.py and beautifulsoup.py and print them\n"
   ]
  },
  {
   "cell_type": "code",
   "execution_count": null,
   "metadata": {},
   "outputs": [],
   "source": [
    "www = 'https://www.olympic.org'\n",
    "r = requests.get(f'{www}/sports')\n",
    "soup = BeautifulSoup(r.text,'lxml')\n",
    "\n",
    "summergames = soup.select(\"#summer-sports a\")\n",
    "for sport in summergames:\n",
    "    print(sport.text.strip())"
   ]
  },
  {
   "cell_type": "markdown",
   "metadata": {},
   "source": [
    "- For each summer sport, retrieve all **men’s** and **women’s events** (one level deeper) and print them\n"
   ]
  },
  {
   "cell_type": "code",
   "execution_count": null,
   "metadata": {},
   "outputs": [],
   "source": [
    "# First try your code for one sport \n",
    "r = requests.get('https://www.olympic.org/archery')\n",
    "s = BeautifulSoup(r.text, 'lxml')\n",
    "\n",
    "for sp in s.select('section.sport-events ul li'):\n",
    "    print(sp.text.strip())"
   ]
  },
  {
   "cell_type": "code",
   "execution_count": null,
   "metadata": {},
   "outputs": [],
   "source": [
    "# Then loop through all sports\n",
    "for sport in soup.select('#summer-sports a'):\n",
    "    sp = sport['href']\n",
    "    r = requests.get(f'{www}{sp}')\n",
    "    s = BeautifulSoup(r.text,'lxml')\n",
    "    for i in s.select('section.sport-events ul li'):\n",
    "        print(sport.text.strip(),i.text.strip())"
   ]
  },
  {
   "cell_type": "markdown",
   "metadata": {},
   "source": [
    "- Option: retrieve a list of all **cities** where summer Olympic games have been held together with their **year**, number of **athletes** and number of participating **countries**.\n"
   ]
  },
  {
   "cell_type": "code",
   "execution_count": null,
   "metadata": {},
   "outputs": [],
   "source": [
    "# Try your code for one O.G.\n",
    "r = requests.get('https://www.olympic.org/rio-2016')\n",
    "s = BeautifulSoup(r.text, 'html.parser')\n",
    "a = s.select_one('div.frame ul')\n",
    "a = a.select('li')\n",
    "date = a[0].findAll(text=True)[3].strip()\n",
    "city = a[1].findAll(text=True)[4].strip()\n",
    "athletes = a[2].findAll(text=True)[3].strip()\n",
    "countries = a[3].findAll(text=True)[3].strip()\n",
    "print(date, city, athletes, countries)\n"
   ]
  },
  {
   "cell_type": "code",
   "execution_count": null,
   "metadata": {},
   "outputs": [],
   "source": [
    "# Then loop through all O.G.'s\n",
    "www = 'https://www.olympic.org'\n",
    "r = requests.get(f'{www}/summer-games')\n",
    "s = BeautifulSoup(r.text, 'lxml')\n",
    "g = s.select('section.games-section a')\n",
    "\n",
    "for i in g:\n",
    "    sg = i.get('href', '')\n",
    "    r = requests.get(f'{www}{sg}')\n",
    "    s = BeautifulSoup(r.text, 'html.parser')\n",
    "    a = s.select_one('div.frame ul')\n",
    "    a = a.select('li')\n",
    "    if len(a) > 3:\n",
    "        date = a[0].findAll(text=True)[3].strip()\n",
    "        city = a[1].findAll(text=True)[4].strip()\n",
    "        athletes = a[2].findAll(text=True)[3].strip()\n",
    "        countries = a[3].findAll(text=True)[3].strip()\n",
    "        print(i.text.strip(), date, city, athletes, countries)\n"
   ]
  },
   {
   "cell_type": "code",
   "execution_count": null,
   "metadata": {},
   "outputs": [],
   "source": [
    "# Voorbeeldcode om weg te schrijven naar .CSV\n"
    "# Then loop through all O.G.'s\n",
    "www = 'https://www.olympic.org'\n",
    "r = requests.get(f'{www}/summer-games')\n",
    "s = BeautifulSoup(r.text, 'lxml')\n",
    "g = s.select('section.games-section a')\n",
    "\n",
    "# Locatie en naam csv bestand opgeven\n",
    "outfile = 'test.csv'\n",
    "# CSV staat nu in directory van dit script\n",
    "# Headers wegschrijven\n",
    "# We gebruiken file mode = 'w' ('write')\n",
    "# Een eventueel bestaand bestand met dezelfde naam wordt overschreven\n",
    "with open(outfile,"w", newline='', encoding='utf-8') as f:\n",
    "    writer = csv.writer(f, delimiter = ";",escapechar = "'")\n",
    "    writer.writerow(['datum','land','n_athletes','n_countries','scrape_date'])\n",
    "\n",
    "# Nu de loop in\n",
    "for i in g:\n",
    "    sg = i.get('href', '')\n",
    "    r = requests.get(f'{www}{sg}')\n",
    "    s = BeautifulSoup(r.text, 'html.parser')\n",
    "    a = s.select_one('div.frame ul')\n",
    "    a = a.select('li')\n",
    "    if len(a) > 3:\n",
    "        date = a[0].findAll(text=True)[3].strip()\n",
    "        city = a[1].findAll(text=True)[4].strip()\n",
    "        athletes = a[2].findAll(text=True)[3].strip()\n",
    "        countries = a[3].findAll(text=True)[3].strip()\n",
    "        # data samenvoegen in list\n",
    "        row = [date, city, athletes, countries,dt.datetime.now().strftime("%Y%m%d")]\n",
    "        print(row)\n",
    "        # rij wegschrijven naar .csv\n",
    "        # We gebruiken file mode = 'a' ('append')\n",
    "        # Aan een eventueel bestaand bestand met dezelfde naam wordt regels toegevoegd (niet overschreven)\n",
    "        # De headers die we hadden weggeschreven blijven dus behouden\n",
    "       with open(outfile,"a", newline='', encoding='utf-8') as f:\n",
    "         writer = csv.writer(f, delimiter = ";",escapechar = "'")\n",
    "         writer.writerow(row)\n"]
  },
  {
   "cell_type": "code",
   "execution_count": null,
   "metadata": {},
   "outputs": [],
   "source": [
    "# Data bekijken in CSV\n",
    "with open(outfile,"r",encoding='utf-8') as f:\n",
    "reader = csv.reader(f)\n",
    "for row in reader:\n",
    "   print(" ".join(row))\n"
   ]
  },
  {
   "cell_type": "code",
   "execution_count": null,
   "metadata": {},
   "outputs": [],
   "source": []
  }
 ],
 "metadata": {
  "kernelspec": {
   "display_name": "Python 3",
   "language": "python",
   "name": "python3"
  },
  "language_info": {
   "codemirror_mode": {
    "name": "ipython",
    "version": 3
   },
   "file_extension": ".py",
   "mimetype": "text/x-python",
   "name": "python",
   "nbconvert_exporter": "python",
   "pygments_lexer": "ipython3",
   "version": "3.7.3"
  }
 },
 "nbformat": 4,
 "nbformat_minor": 2
}
