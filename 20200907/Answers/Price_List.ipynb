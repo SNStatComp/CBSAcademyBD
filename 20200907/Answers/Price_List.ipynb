{
 "cells": [
  {
   "cell_type": "markdown",
   "metadata": {},
   "source": [
    "## Exercise: price list"
   ]
  },
  {
   "cell_type": "code",
   "execution_count": null,
   "metadata": {},
   "outputs": [],
   "source": [
    "# Imports:\n",
    "import requests\n",
    "from bs4 import BeautifulSoup\n",
    "import time                      # for sleeping between multiple requests\n",
    "headers = {'user-agent': 'scrapingCourseBot'}"
   ]
  },
  {
   "cell_type": "code",
   "execution_count": null,
   "metadata": {},
   "outputs": [],
   "source": [
    "r = requests.get('http://testing-ground.scraping.pro/blocks', headers=headers)\n",
    "print(r.status_code)\n",
    "soup = BeautifulSoup(r.text, 'lxml')\n",
    "#print(soup)"
   ]
  },
  {
   "cell_type": "code",
   "execution_count": null,
   "metadata": {},
   "outputs": [],
   "source": [
    "# Retrieve the first product name:\n",
    "result = soup.find(\"div\", class_=\"name\").text\n",
    "print(result)"
   ]
  },
  {
   "cell_type": "code",
   "execution_count": null,
   "metadata": {},
   "outputs": [],
   "source": [
    "# Print all product names contained in the page (both case 1 and 2)\n",
    "names = soup.find_all(\"div\", class_=\"name\")\n",
    "for name in names:\n",
    "    print(name.text)"
   ]
  },
  {
   "cell_type": "code",
   "execution_count": null,
   "metadata": {},
   "outputs": [],
   "source": [
    "# Print all product names from Case1:\n",
    "names = soup.find(\"div\", id=\"case1\").find_all(\"div\", class_=\"name\")\n",
    "for name in names:\n",
    "    print(name.text)"
   ]
  },
  {
   "cell_type": "code",
   "execution_count": null,
   "metadata": {},
   "outputs": [],
   "source": [
    "# Option: print all product names + prices, Case1:\n",
    "names = soup.find(\"div\", id=\"case1\").find_all(\"div\", class_=\"name\")\n",
    "for name in names:\n",
    "    price = name.parent.next_sibling\n",
    "    print(name.text, price.text)"
   ]
  }
 ],
 "metadata": {
  "kernelspec": {
   "display_name": "Python 3",
   "language": "python",
   "name": "python3"
  },
  "language_info": {
   "codemirror_mode": {
    "name": "ipython",
    "version": 3
   },
   "file_extension": ".py",
   "mimetype": "text/x-python",
   "name": "python",
   "nbconvert_exporter": "python",
   "pygments_lexer": "ipython3",
   "version": "3.7.3"
  }
 },
 "nbformat": 4,
 "nbformat_minor": 2
}