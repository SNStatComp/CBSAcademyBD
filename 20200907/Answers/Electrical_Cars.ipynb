{
 "cells": [
  {
   "cell_type": "markdown",
   "metadata": {},
   "source": [
    "## Exercise: electrical cars"
   ]
  },
  {
   "cell_type": "code",
   "execution_count": null,
   "metadata": {},
   "outputs": [],
   "source": [
    "# Imports:\n",
    "import requests\n",
    "from bs4 import BeautifulSoup\n",
    "import re\n",
    "import time\n",
    "headers = {'user-agent': 'scrapingCourseBot'}"
   ]
  },
  {
   "cell_type": "code",
   "execution_count": null,
   "metadata": {},
   "outputs": [],
   "source": [
    "# Retrieve the number of electrical Renaults built between 2010 and 2014 and\n",
    "# print the tag containing the number of occasions:\n",
    "\n",
    "pars = {'bmin': 2010, 'bmax': 2014}\n",
    "r2 = requests.get('https://www.gaspedaal.nl/renault/elektrisch?', params=pars, headers=headers)\n",
    "\n",
    "# The number of occasions is in the HTML as:\n",
    "#  <h1 class=\"listing__header__total_found\">xxxxx occasions gevonden</h1>\n",
    "#match = re.search(r'<h1 class=\"listing__header__total_found\">.*</h1>', r2.text)\n",
    "# or alternatively:\n",
    "match = re.search(r'[\\d\\.]* occasions gevonden', r2.text)\n",
    "if match:\n",
    "    print(match.group())\n",
    "else:\n",
    "    print('not found')\n"
   ]
  },
  {
   "cell_type": "code",
   "execution_count": null,
   "metadata": {},
   "outputs": [],
   "source": [
    "### Retrieve the number of electrical Renaults for every year between 2010 and 2019:\n",
    "for year in range(2010, 2020):\n",
    "    pars = {'bmin': year, 'bmax': year}\n",
    "    r3 = requests.get('https://www.gaspedaal.nl/renault/elektrisch?', params=pars, headers=headers)\n",
    "    match = re.search(r'[\\d\\.]* occasions gevonden', r3.text)\n",
    "    if match:\n",
    "        print(str(year) + \": \" + match.group())\n",
    "    else:\n",
    "        print('not found')\n",
    "    time.sleep(1)"
   ]
  }
 ],
 "metadata": {
  "kernelspec": {
   "display_name": "Python 3",
   "language": "python",
   "name": "python3"
  },
  "language_info": {
   "codemirror_mode": {
    "name": "ipython",
    "version": 3
   },
   "file_extension": ".py",
   "mimetype": "text/x-python",
   "name": "python",
   "nbconvert_exporter": "python",
   "pygments_lexer": "ipython3",
   "version": "3.7.3"
  }
 },
 "nbformat": 4,
 "nbformat_minor": 2
}
