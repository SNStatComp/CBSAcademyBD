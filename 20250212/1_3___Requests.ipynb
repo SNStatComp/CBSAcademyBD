{
 "cells": [
  {
   "cell_type": "markdown",
   "metadata": {},
   "source": [
    "# Course on webscraping\n",
    "\n",
    "*By Olav ten Bosch, Darius Keijdener*"
   ]
  },
  {
   "cell_type": "code",
   "execution_count": null,
   "metadata": {},
   "outputs": [],
   "source": [
    "# Imports:\n",
    "import requests                     # for issueing HTTP requests\n",
    "import time                         # for sleeping between multiple requests"
   ]
  },
  {
   "cell_type": "markdown",
   "metadata": {},
   "source": [
    "#### Documentation:\n",
    "- [Requests.py](https://requests.readthedocs.io)"
   ]
  },
  {
   "cell_type": "markdown",
   "metadata": {},
   "source": [
    "### Request, headers, user-agent, parameters, sleeping:"
   ]
  },
  {
   "cell_type": "code",
   "execution_count": null,
   "metadata": {},
   "outputs": [],
   "source": [
    "# Retrieving home page of Statistics Netherlands:\n",
    "r1 = requests.get('https://www.cbs.nl/en-gb')\n",
    "\n",
    "print(r1.status_code, r1.headers['content-type'], r1.encoding)\n",
    "#print(r1.headers)\n",
    "#print(r1.text)"
   ]
  },
  {
   "cell_type": "code",
   "execution_count": null,
   "metadata": {},
   "outputs": [],
   "source": [
    "# Retrieving home page of Statistics Netherlands with user-agent string:\n",
    "headers = {'user-agent': 'scrapingCourseBot'}\n",
    "r2 = requests.get('https://www.cbs.nl/en-gb', headers=headers)\n",
    "\n",
    "# Headers of the request:\n",
    "print(r2.request.headers)\n",
    "\n",
    "# Headers of the response:\n",
    "#print(r2.headers)"
   ]
  },
  {
   "cell_type": "code",
   "execution_count": null,
   "metadata": {},
   "outputs": [],
   "source": [
    "# Issue a request with parameters:\n",
    "pars = {'q': 'A2'}\n",
    "#pars = {'q': 'A20'}\n",
    "#pars = {'q': 'A13'}\n",
    "r3 = requests.get('https://www.anwb.nl/verkeer/filelijst?', params=pars, headers=headers)        \n",
    "print(r3.url)\n",
    "#print(r3.text)"
   ]
  },
  {
   "cell_type": "code",
   "execution_count": null,
   "metadata": {},
   "outputs": [],
   "source": [
    "### In a loop, always add some idle time (time.sleep) to not overload server:\n",
    "for road in [\"A13\", \"A10\", \"A12\", \"A16\", \"A2\", \"A4\"]:\n",
    "    pars = {'q': road}\n",
    "    r4 = requests.get('https://www.anwb.nl/verkeer/filelijst?', params=pars, headers=headers)\n",
    "    print(r4.url, r4.status_code)\n",
    "    \n",
    "    # WAIT IN BETWEEN REQESTS!:\n",
    "    time.sleep(1)"
   ]
  },
  {
   "cell_type": "code",
   "execution_count": null,
   "metadata": {},
   "outputs": [],
   "source": [
    "# We can also query other types of files\n",
    "# For example one picture from a website:\n",
    "r5 = requests.get(\"https://cdn.cbs.nl/images/445343647647317a4f6c5166546d424a7778375475413d3d/900x450.jpg\", headers=headers)\n",
    "#r5 = requests.get(\"https://merk.anwb.nl/m/1ea70d52519429eb/Web_2240-Header-3000-GettyImages-840576362.jpg\", headers=headers)\n",
    "# for textual data use .text (Unicode)\n",
    "r5.text\n",
    "# for binary data use .content\n",
    "#r5.content"
   ]
  },
  {
   "cell_type": "code",
   "execution_count": null,
   "metadata": {},
   "outputs": [],
   "source": [
    "# The .content attribute returns the raw binary string, which can be interpreted by other functions.\n",
    "from IPython.display import Image   # for viewing images in a python notebook\n",
    "Image(r5.content)"
   ]
  },
  {
   "cell_type": "code",
   "execution_count": null,
   "metadata": {},
   "outputs": [],
   "source": [
    "# Or an Excel file\n",
    "# from page: https://www.cbs.nl/nl-nl/maatwerk/2022/26/tabellen-tozo-definitief-juli-t-m-september-2021\n",
    "r6 = requests.get(\"https://www.cbs.nl/-/media/_excel/2022/26/bus-tozo-2021-q3-definitief.xlsx\", headers=headers)\n",
    "r6.content"
   ]
  },
  {
   "cell_type": "code",
   "execution_count": null,
   "metadata": {},
   "outputs": [],
   "source": [
    "# This is how to save the result into a file. \n",
    "# Since we have binary data we use the \"b\" here, leave this out for textual data. \n",
    "# Always be mindfull when you download and save files, especially in binary!\n",
    "if r6.status_code == 200:\n",
    "    with open(\"bestand_tozo.xls\", \"wb\") as file:\n",
    "        file.write(r6.content)"
   ]
  },
  {
   "cell_type": "code",
   "execution_count": null,
   "metadata": {},
   "outputs": [],
   "source": [
    "# This works only if you are running this locally, pandas is not installed in the binder machines\n",
    "import pandas as pd\n",
    "pd.read_excel(\"bestand_tozo.xls\", sheet_name='Tabel 1')"
   ]
  },
  {
   "cell_type": "code",
   "execution_count": null,
   "metadata": {},
   "outputs": [],
   "source": []
  }
 ],
 "metadata": {
  "kernelspec": {
   "display_name": "Python 3 (ipykernel)",
   "language": "python",
   "name": "python3"
  },
  "language_info": {
   "codemirror_mode": {
    "name": "ipython",
    "version": 3
   },
   "file_extension": ".py",
   "mimetype": "text/x-python",
   "name": "python",
   "nbconvert_exporter": "python",
   "pygments_lexer": "ipython3",
   "version": "3.10.9"
  }
 },
 "nbformat": 4,
 "nbformat_minor": 2
}
