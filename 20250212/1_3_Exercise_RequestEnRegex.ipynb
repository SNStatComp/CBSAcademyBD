{
 "cells": [
  {
   "cell_type": "markdown",
   "metadata": {},
   "source": [
    "# Deel 1"
   ]
  },
  {
   "cell_type": "code",
   "execution_count": null,
   "metadata": {},
   "outputs": [],
   "source": [
    "# Imports:\n",
    "import requests                     # for issueing HTTP requests\n",
    "import time                         # for sleeping between multiple requests"
   ]
  },
  {
   "cell_type": "markdown",
   "metadata": {},
   "source": [
    "Via de website [https://www.parkeerbord.nl/](https://www.parkeerbord.nl/) worden verkeersborden verkocht.\n",
    "We willen de gemiddelde prijs weten van een aantal borden.\n",
    "\n",
    "Haal de homepagina op met requests en bekijk de html in het jupyter notebook.\n",
    "Gebruik de aangeven user-agent voor identificatie."
   ]
  },
  {
   "cell_type": "code",
   "execution_count": null,
   "metadata": {},
   "outputs": [],
   "source": [
    "head = {'user-agent': 'scrapingCourseBot'}\n",
    "# Code hier:\n"
   ]
  },
  {
   "cell_type": "markdown",
   "metadata": {},
   "source": [
    "Zoek op [parkeerbord.nl/](https://www.parkeerbord.nl/) m.b.v. de zoekbalk naar borden die 'blauw' zijn.\n",
    "Bekijk de URL van de pagina nadat je op enter hebt gedrukt. Wat valt je op?\n",
    "\n",
    "Gebruik deze kennis om met requests de html van de pagina met de borden die over 'sinterklaas' gaan op te halen."
   ]
  },
  {
   "cell_type": "code",
   "execution_count": null,
   "metadata": {},
   "outputs": [],
   "source": [
    "# Code hier:\n"
   ]
  },
  {
   "cell_type": "markdown",
   "metadata": {},
   "source": [
    "Sla nu de html-code van de pagina met deze borden op in een file."
   ]
  },
  {
   "cell_type": "code",
   "execution_count": null,
   "metadata": {},
   "outputs": [],
   "source": [
    "# Code hier:\n"
   ]
  },
  {
   "cell_type": "markdown",
   "metadata": {},
   "source": [
    "En laad de pagina weer in."
   ]
  },
  {
   "cell_type": "code",
   "execution_count": null,
   "metadata": {},
   "outputs": [],
   "source": [
    "# Code hier:\n"
   ]
  },
  {
   "cell_type": "markdown",
   "metadata": {},
   "source": [
    "# Deel 2"
   ]
  },
  {
   "cell_type": "markdown",
   "metadata": {},
   "source": [
    "Bekijk met behulp van de developer-tool in je browser naar het onderdeel van de pagina waar de prijs van een bord staat. Waarom is het niet zo makkelijk om automatisch de prijs te vinden door naar het euroteken te zoeken?"
   ]
  },
  {
   "cell_type": "markdown",
   "metadata": {},
   "source": [
    "Maak een reguliere expressie die zoekt naar prijzen. Zorg dat de regex alleen de prijs zonder eenheid (euroteken) teruggeeft."
   ]
  },
  {
   "cell_type": "code",
   "execution_count": null,
   "metadata": {},
   "outputs": [],
   "source": [
    "regex_prijs = \"\""
   ]
  },
  {
   "cell_type": "markdown",
   "metadata": {},
   "source": [
    "Haal opnieuw de zoekpagina voor de groenen borden binnen, en bereken daarop de gemiddelde prijs van de borden. Je kunt hiervoor gebruik maken van de volgende functie."
   ]
  },
  {
   "cell_type": "code",
   "execution_count": null,
   "metadata": {},
   "outputs": [],
   "source": [
    "# run deze cel voordat je gaat coderen om de functie te definieren en te zien hoe hij gebruikt moet worden.\n",
    "def gemiddelde_prijs(lijst_met_prijzen):\n",
    "    som = 0\n",
    "    for prijs in lijst_met_prijzen:\n",
    "        som += float(prijs.replace(',','.'))\n",
    "    return som / len(lijst_met_prijzen)\n",
    "\n",
    "gemiddelde_prijs(['5,00', '6,00'])"
   ]
  },
  {
   "cell_type": "code",
   "execution_count": null,
   "metadata": {},
   "outputs": [],
   "source": [
    "# Code hier:\n"
   ]
  },
  {
   "cell_type": "markdown",
   "metadata": {},
   "source": [
    "Het is altijd belangrijk om je werk goed te controleren. Kijk via de browser of de berekening voor de gemiddelde prijs van borden over Sinterklaas klopt. Zo niet, wat ging er fout? Een eventuele oplossing zullen we de volgende keer bespreken."
   ]
  }
 ],
 "metadata": {
  "kernelspec": {
   "display_name": "Python 3 (ipykernel)",
   "language": "python",
   "name": "python3"
  },
  "language_info": {
   "codemirror_mode": {
    "name": "ipython",
    "version": 3
   },
   "file_extension": ".py",
   "mimetype": "text/x-python",
   "name": "python",
   "nbconvert_exporter": "python",
   "pygments_lexer": "ipython3",
   "version": "3.10.9"
  }
 },
 "nbformat": 4,
 "nbformat_minor": 2
}
