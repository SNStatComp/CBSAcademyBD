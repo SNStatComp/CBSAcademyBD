{
 "cells": [
  {
   "cell_type": "markdown",
   "metadata": {},
   "source": [
    "## Scrape using requests and BeautifulSoup"
   ]
  },
  {
   "cell_type": "code",
   "execution_count": 1,
   "metadata": {},
   "outputs": [],
   "source": [
    "# Imports:\n",
    "import requests\n",
    "from bs4 import BeautifulSoup\n",
    "import time                      # for sleeping between multiple requests\n",
    "import re                        # for regular expressions\n",
    "headers = {'user-agent': 'scrapingCourseBot'}"
   ]
  },
  {
   "cell_type": "code",
   "execution_count": 2,
   "metadata": {},
   "outputs": [
    {
     "name": "stdout",
     "output_type": "stream",
     "text": [
      "Dell Latitude D610-1.73 Laptop Wireless Computer\n"
     ]
    }
   ],
   "source": [
    "r = requests.get('http://testing-ground.scraping.pro/blocks', headers=headers)\n",
    "soup = BeautifulSoup(r.text, 'lxml')\n",
    "\n",
    "# Retrieve first item name:\n",
    "result = soup.find(\"div\", class_=\"name\").text\n",
    "print(result)"
   ]
  },
  {
   "cell_type": "code",
   "execution_count": 3,
   "metadata": {},
   "outputs": [
    {
     "name": "stdout",
     "output_type": "stream",
     "text": [
      "Dell Latitude D610-1.73 Laptop Wireless Computer\n",
      "Samsung Chromebook (Wi-Fi, 11.6-Inch)\n",
      "Apple MacBook Pro MD101LL/A 13.3-Inch Laptop (NEWEST VERSION)\n",
      "Acer Aspire AS5750Z-4835 15.6-Inch Laptop (Black)\n",
      "HP Pavilion g7-2010nr 17.3-Inch Laptop (Black)\n",
      "ASUS A53Z-AS61 15.6-Inch Laptop (Mocha)\n",
      "Dell Latitude D610-1.73 Laptop Wireless Computer\n",
      "Samsung Chromebook (Wi-Fi, 11.6-Inch)\n",
      "Apple MacBook Pro MD101LL/A 13.3-Inch Laptop (NEWEST VERSION)\n",
      "Acer Aspire AS5750Z-4835 15.6-Inch Laptop (Black)\n",
      "HP Pavilion g7-2010nr 17.3-Inch Laptop (Black)\n",
      "ASUS A53Z-AS61 15.6-Inch Laptop (Mocha)\n"
     ]
    }
   ],
   "source": [
    "# Retrieve all item names: Note: we scrape both tables now:\n",
    "results = soup.find_all(\"div\", class_=\"name\")\n",
    "for res in results:\n",
    "    print(res.text)"
   ]
  },
  {
   "cell_type": "markdown",
   "metadata": {},
   "source": [
    "## Scrape using Selenium / webdriver (headless Firefox)"
   ]
  },
  {
   "cell_type": "code",
   "execution_count": 4,
   "metadata": {},
   "outputs": [],
   "source": [
    "from selenium import webdriver\n",
    "from selenium.webdriver.firefox.options import Options"
   ]
  },
  {
   "cell_type": "code",
   "execution_count": 5,
   "metadata": {},
   "outputs": [
    {
     "name": "stdout",
     "output_type": "stream",
     "text": [
      "Dell Latitude D610-1.73 Laptop Wireless Computer\n"
     ]
    }
   ],
   "source": [
    "profile = webdriver.FirefoxProfile()\n",
    "profile.set_preference(\"general.useragent.override\", \"scrapingCourseBot\")\n",
    "\n",
    "options = Options()\n",
    "options.headless = True\n",
    "\n",
    "driver = webdriver.Firefox(profile, options=options)\n",
    "driver.get('http://testing-ground.scraping.pro/blocks')\n",
    "\n",
    "# Retrieve first item name:\n",
    "elem = driver.find_element_by_css_selector('div.name')\n",
    "print(elem.text)"
   ]
  },
  {
   "cell_type": "code",
   "execution_count": 7,
   "metadata": {},
   "outputs": [
    {
     "name": "stdout",
     "output_type": "stream",
     "text": [
      "Dell Latitude D610-1.73 Laptop Wireless Computer\n",
      "Samsung Chromebook (Wi-Fi, 11.6-Inch)\n",
      "Apple MacBook Pro MD101LL/A 13.3-Inch Laptop (NEWEST VERSION)\n",
      "Acer Aspire AS5750Z-4835 15.6-Inch Laptop (Black)\n",
      "HP Pavilion g7-2010nr 17.3-Inch Laptop (Black)\n",
      "ASUS A53Z-AS61 15.6-Inch Laptop (Mocha)\n",
      "Dell Latitude D610-1.73 Laptop Wireless Computer\n",
      "Samsung Chromebook (Wi-Fi, 11.6-Inch)\n",
      "Apple MacBook Pro MD101LL/A 13.3-Inch Laptop (NEWEST VERSION)\n",
      "Acer Aspire AS5750Z-4835 15.6-Inch Laptop (Black)\n",
      "HP Pavilion g7-2010nr 17.3-Inch Laptop (Black)\n",
      "ASUS A53Z-AS61 15.6-Inch Laptop (Mocha)\n"
     ]
    }
   ],
   "source": [
    "# Retrieve all item names: Note: we scrape both tables now:\n",
    "elems = driver.find_elements_by_css_selector('div.name')\n",
    "for e in elems:\n",
    "    print(e.text)\n",
    "driver.quit()"
   ]
  },
  {
   "cell_type": "markdown",
   "metadata": {},
   "source": [
    "## Scrape using Selenium / webdriver (headless Chrome)"
   ]
  },
  {
   "cell_type": "code",
   "execution_count": 17,
   "metadata": {},
   "outputs": [
    {
     "name": "stdout",
     "output_type": "stream",
     "text": [
      "Dell Latitude D610-1.73 Laptop Wireless Computer\n"
     ]
    }
   ],
   "source": [
    "options = webdriver.ChromeOptions()\n",
    "options.headless = True\n",
    "options.add_argument('user-agent=scrapingCourseBot')\n",
    "\n",
    "driver = webdriver.Chrome(options=options)\n",
    "driver.get('http://testing-ground.scraping.pro/blocks');\n",
    "\n",
    "# Retrieve first item name:\n",
    "elem = driver.find_element_by_css_selector('div.name')\n",
    "print(elem.text)"
   ]
  },
  {
   "cell_type": "code",
   "execution_count": 13,
   "metadata": {},
   "outputs": [
    {
     "name": "stdout",
     "output_type": "stream",
     "text": [
      "Dell Latitude D610-1.73 Laptop Wireless Computer\n",
      "Samsung Chromebook (Wi-Fi, 11.6-Inch)\n",
      "Apple MacBook Pro MD101LL/A 13.3-Inch Laptop (NEWEST VERSION)\n",
      "Acer Aspire AS5750Z-4835 15.6-Inch Laptop (Black)\n",
      "HP Pavilion g7-2010nr 17.3-Inch Laptop (Black)\n",
      "ASUS A53Z-AS61 15.6-Inch Laptop (Mocha)\n",
      "Dell Latitude D610-1.73 Laptop Wireless Computer\n",
      "Samsung Chromebook (Wi-Fi, 11.6-Inch)\n",
      "Apple MacBook Pro MD101LL/A 13.3-Inch Laptop (NEWEST VERSION)\n",
      "Acer Aspire AS5750Z-4835 15.6-Inch Laptop (Black)\n",
      "HP Pavilion g7-2010nr 17.3-Inch Laptop (Black)\n",
      "ASUS A53Z-AS61 15.6-Inch Laptop (Mocha)\n"
     ]
    }
   ],
   "source": [
    "# Retrieve all item names: Note: we scrape both tables now:\n",
    "elems = driver.find_elements_by_css_selector('div.name')\n",
    "for e in elems:\n",
    "    print(e.text)"
   ]
  },
  {
   "cell_type": "code",
   "execution_count": 16,
   "metadata": {},
   "outputs": [],
   "source": [
    "driver.quit()"
   ]
  },
  {
   "cell_type": "code",
   "execution_count": null,
   "metadata": {},
   "outputs": [],
   "source": []
  }
 ],
 "metadata": {
  "kernelspec": {
   "display_name": "Python 3",
   "language": "python",
   "name": "python3"
  },
  "language_info": {
   "codemirror_mode": {
    "name": "ipython",
    "version": 3
   },
   "file_extension": ".py",
   "mimetype": "text/x-python",
   "name": "python",
   "nbconvert_exporter": "python",
   "pygments_lexer": "ipython3",
   "version": "3.7.3"
  }
 },
 "nbformat": 4,
 "nbformat_minor": 4
}
