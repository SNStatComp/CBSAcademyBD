{
 "cells": [
  {
   "cell_type": "markdown",
   "metadata": {},
   "source": [
    "## Headless scraping using Selenium\n",
    "\n",
    "This notebook does not work in the binder, needs local driver install, see below"
   ]
  },
  {
   "cell_type": "markdown",
   "metadata": {},
   "source": [
    "#### Documentation:\n",
    "- [Requests.py](http://docs.python-requests.org)\n",
    "- [Beautifulsoup.py](https://www.crummy.com/software/BeautifulSoup/bs4/doc/)\n",
    "- [Selenium with python](https://selenium-python.readthedocs.io/)\n",
    "- [Selenium](https://www.selenium.dev/documentation/)"
   ]
  },
  {
   "cell_type": "code",
   "execution_count": null,
   "metadata": {},
   "outputs": [],
   "source": [
    "# Install Selenium: This needs to be executed only once!!!!!\n",
    "!pip install selenium\n",
    "\n",
    "# Download the selenium driver for your browser and machine from\n",
    "#         https://selenium-python.readthedocs.io/installation.html#drivers\n",
    "# and add it to this local folder:\n",
    "import os\n",
    "import sys\n",
    "os.path.dirname(sys.executable)"
   ]
  },
  {
   "cell_type": "code",
   "execution_count": 6,
   "metadata": {},
   "outputs": [],
   "source": [
    "# Imports:\n",
    "import time\n",
    "from selenium import webdriver"
   ]
  },
  {
   "cell_type": "markdown",
   "metadata": {},
   "source": [
    "## Static Price list page the old way (requests, beautifulsoup):"
   ]
  },
  {
   "cell_type": "code",
   "execution_count": 7,
   "metadata": {},
   "outputs": [
    {
     "name": "stdout",
     "output_type": "stream",
     "text": [
      "Dell Latitude D610-1.73 Laptop Wireless Computer\n"
     ]
    }
   ],
   "source": [
    "import requests\n",
    "from bs4 import BeautifulSoup\n",
    "headers = {'user-agent': 'scrapingCourseBot'}\n",
    "\n",
    "# Pricelist first product name via beautifulsoup:\n",
    "r = requests.get(\"https://snstatcomp.github.io/webscrapingtests/course/prices1.html\", headers=headers)\n",
    "soup = BeautifulSoup(r.text, 'lxml')\n",
    "print(soup.select('div.name')[0].text)"
   ]
  },
  {
   "cell_type": "markdown",
   "metadata": {},
   "source": [
    "## Static Price list page headless via Chrome:"
   ]
  },
  {
   "cell_type": "code",
   "execution_count": 8,
   "metadata": {},
   "outputs": [
    {
     "ename": "NameError",
     "evalue": "name 'By' is not defined",
     "output_type": "error",
     "traceback": [
      "\u001b[1;31m---------------------------------------------------------------------------\u001b[0m",
      "\u001b[1;31mNameError\u001b[0m                                 Traceback (most recent call last)",
      "Input \u001b[1;32mIn [8]\u001b[0m, in \u001b[0;36m<cell line: 9>\u001b[1;34m()\u001b[0m\n\u001b[0;32m      6\u001b[0m browser\u001b[38;5;241m.\u001b[39mget(\u001b[38;5;124m\"\u001b[39m\u001b[38;5;124mhttps://snstatcomp.github.io/webscrapingtests/course/prices1.html\u001b[39m\u001b[38;5;124m\"\u001b[39m)\n\u001b[0;32m      8\u001b[0m \u001b[38;5;66;03m# Retrieve first item name:\u001b[39;00m\n\u001b[1;32m----> 9\u001b[0m elem \u001b[38;5;241m=\u001b[39m browser\u001b[38;5;241m.\u001b[39mfind_element(\u001b[43mBy\u001b[49m\u001b[38;5;241m.\u001b[39mCSS_SELECTOR, \u001b[38;5;124m'\u001b[39m\u001b[38;5;124mdiv.name\u001b[39m\u001b[38;5;124m'\u001b[39m)\n\u001b[0;32m     10\u001b[0m \u001b[38;5;28mprint\u001b[39m(elem\u001b[38;5;241m.\u001b[39mtext)\n\u001b[0;32m     12\u001b[0m browser\u001b[38;5;241m.\u001b[39mclose()\n",
      "\u001b[1;31mNameError\u001b[0m: name 'By' is not defined"
     ]
    }
   ],
   "source": [
    "options = webdriver.ChromeOptions()\n",
    "options.headless = False\n",
    "options.add_argument('user-agent=scrapingCourseBot')\n",
    "\n",
    "browser = webdriver.Chrome(options=options)\n",
    "browser.get(\"https://snstatcomp.github.io/webscrapingtests/course/prices1.html\")\n",
    "\n",
    "# Retrieve first item name:\n",
    "elem = browser.find_element(By.CSS_SELECTOR, 'div.name')\n",
    "print(elem.text)\n",
    "\n",
    "browser.close()"
   ]
  },
  {
   "cell_type": "markdown",
   "metadata": {},
   "source": [
    "## Headless request to price list (Firefox):"
   ]
  },
  {
   "cell_type": "code",
   "execution_count": 9,
   "metadata": {},
   "outputs": [
    {
     "ename": "NameError",
     "evalue": "name 'By' is not defined",
     "output_type": "error",
     "traceback": [
      "\u001b[1;31m---------------------------------------------------------------------------\u001b[0m",
      "\u001b[1;31mNameError\u001b[0m                                 Traceback (most recent call last)",
      "Input \u001b[1;32mIn [9]\u001b[0m, in \u001b[0;36m<cell line: 10>\u001b[1;34m()\u001b[0m\n\u001b[0;32m      7\u001b[0m browser\u001b[38;5;241m.\u001b[39mget(\u001b[38;5;124m'\u001b[39m\u001b[38;5;124mhttps://snstatcomp.github.io/webscrapingtests/course/prices1.html\u001b[39m\u001b[38;5;124m'\u001b[39m)\n\u001b[0;32m      9\u001b[0m \u001b[38;5;66;03m# Retrieve first item name:\u001b[39;00m\n\u001b[1;32m---> 10\u001b[0m elem \u001b[38;5;241m=\u001b[39m browser\u001b[38;5;241m.\u001b[39mfind_element(\u001b[43mBy\u001b[49m\u001b[38;5;241m.\u001b[39mCSS_SELECTOR, \u001b[38;5;124m'\u001b[39m\u001b[38;5;124mdiv.name\u001b[39m\u001b[38;5;124m'\u001b[39m)\n\u001b[0;32m     11\u001b[0m \u001b[38;5;28mprint\u001b[39m(elem\u001b[38;5;241m.\u001b[39mtext)\n\u001b[0;32m     13\u001b[0m browser\u001b[38;5;241m.\u001b[39mclose()\n",
      "\u001b[1;31mNameError\u001b[0m: name 'By' is not defined"
     ]
    }
   ],
   "source": [
    "from selenium.webdriver.firefox.options import Options\n",
    "options = Options()\n",
    "options.headless = False\n",
    "options.add_argument('user-agent=scrapingCourseBot')\n",
    "\n",
    "browser = webdriver.Firefox(options=options)\n",
    "browser.get('https://snstatcomp.github.io/webscrapingtests/course/prices1.html')\n",
    "\n",
    "# Retrieve first item name:\n",
    "elem = browser.find_element(By.CSS_SELECTOR, 'div.name')\n",
    "print(elem.text)\n",
    "\n",
    "browser.close()"
   ]
  },
  {
   "cell_type": "markdown",
   "metadata": {},
   "source": [
    "## Headless getting Olympic winter games (Chrome): "
   ]
  },
  {
   "cell_type": "code",
   "execution_count": 5,
   "metadata": {},
   "outputs": [
    {
     "ename": "NameError",
     "evalue": "name 'By' is not defined",
     "output_type": "error",
     "traceback": [
      "\u001b[1;31m---------------------------------------------------------------------------\u001b[0m",
      "\u001b[1;31mNameError\u001b[0m                                 Traceback (most recent call last)",
      "Input \u001b[1;32mIn [5]\u001b[0m, in \u001b[0;36m<cell line: 12>\u001b[1;34m()\u001b[0m\n\u001b[0;32m      8\u001b[0m time\u001b[38;5;241m.\u001b[39msleep(\u001b[38;5;241m5\u001b[39m)\n\u001b[0;32m     10\u001b[0m \u001b[38;5;66;03m# Retrieve first item name:\u001b[39;00m\n\u001b[0;32m     11\u001b[0m \u001b[38;5;66;03m# elements = browser.find_elements_by_css_selector('div.-sportlist h1.article--title') # this worked in Sep 2021\u001b[39;00m\n\u001b[1;32m---> 12\u001b[0m elements \u001b[38;5;241m=\u001b[39m browser\u001b[38;5;241m.\u001b[39mfind_elements(\u001b[43mBy\u001b[49m\u001b[38;5;241m.\u001b[39mCSS_SELECTOR, \u001b[38;5;124m'\u001b[39m\u001b[38;5;124mli.b2p-sports-wrapper__item\u001b[39m\u001b[38;5;124m'\u001b[39m) \u001b[38;5;66;03m# this works in Sep 2022\u001b[39;00m\n\u001b[0;32m     13\u001b[0m \u001b[38;5;66;03m#print(elements)\u001b[39;00m\n\u001b[0;32m     14\u001b[0m \u001b[38;5;28;01mfor\u001b[39;00m e \u001b[38;5;129;01min\u001b[39;00m elements:\n",
      "\u001b[1;31mNameError\u001b[0m: name 'By' is not defined"
     ]
    }
   ],
   "source": [
    "options = webdriver.ChromeOptions()\n",
    "options.headless = False\n",
    "#options.add_argument('user-agent=scrapingCourseBot')\n",
    "\n",
    "browser = webdriver.Chrome(options=options)\n",
    "browser.get('https://olympics.com/en/sports/winter-olympics')\n",
    "\n",
    "time.sleep(5)\n",
    "\n",
    "# Retrieve first item name:\n",
    "# elements = browser.find_elements_by_css_selector('div.-sportlist h1.article--title') # this worked in Sep 2021\n",
    "elements = browser.find_elements(By.CSS_SELECTOR, 'li.b2p-sports-wrapper__item') # this works in Sep 2022\n",
    "#print(elements)\n",
    "for e in elements:\n",
    "    print(e.text)\n",
    "\n",
    "browser.close()"
   ]
  },
  {
   "cell_type": "code",
   "execution_count": null,
   "metadata": {},
   "outputs": [],
   "source": []
  }
 ],
 "metadata": {
  "kernelspec": {
   "display_name": "Python 3 (ipykernel)",
   "language": "python",
   "name": "python3"
  },
  "language_info": {
   "codemirror_mode": {
    "name": "ipython",
    "version": 3
   },
   "file_extension": ".py",
   "mimetype": "text/x-python",
   "name": "python",
   "nbconvert_exporter": "python",
   "pygments_lexer": "ipython3",
   "version": "3.9.12"
  }
 },
 "nbformat": 4,
 "nbformat_minor": 4
}
