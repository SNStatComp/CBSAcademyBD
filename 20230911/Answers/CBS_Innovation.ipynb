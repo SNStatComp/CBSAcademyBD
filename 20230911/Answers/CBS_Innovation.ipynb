{
 "cells": [
  {
   "cell_type": "markdown",
   "metadata": {},
   "source": [
    "## Exercise: CBS Innovation"
   ]
  },
  {
   "cell_type": "code",
   "execution_count": null,
   "metadata": {},
   "outputs": [],
   "source": [
    "import requests\n",
    "from bs4 import BeautifulSoup\n",
    "import time                      # for sleeping between multiple requests\n",
    "headers = {'user-agent': 'scrapingCourseBot'}"
   ]
  },
  {
   "cell_type": "markdown",
   "metadata": {},
   "source": [
    "- Get CBS innovation page using requests and parse result using BeautifulSoup"
   ]
  },
  {
   "cell_type": "code",
   "execution_count": null,
   "metadata": {},
   "outputs": [],
   "source": [
    "r = requests.get('https://www.cbs.nl/nl-nl/over-ons/innovatie', headers=headers)\n",
    "print(r.status_code)\n",
    "soup = BeautifulSoup(r.text,'lxml')"
   ]
  },
  {
   "cell_type": "markdown",
   "metadata": {},
   "source": [
    "- Retrieve all titles of all innovation articles on this page using BeautifulSoup and / or a CSS selector and print them"
   ]
  },
  {
   "cell_type": "code",
   "execution_count": null,
   "metadata": {},
   "outputs": [],
   "source": [
    "# Using find/find_all:\n",
    "#titles = soup.find_all(\"h3\")\n",
    "# Using a css selector:\n",
    "titles = soup.select(\"h3\")\n",
    "for title in titles:\n",
    "    print(title.text)"
   ]
  },
  {
   "cell_type": "markdown",
   "metadata": {},
   "source": [
    "- For each innovation article print the URL and the contents of the first paragraph (tag p) of that article"
   ]
  },
  {
   "cell_type": "code",
   "execution_count": null,
   "metadata": {},
   "outputs": [],
   "source": [
    "# First try your code for one article\n",
    "r1 = requests.get('https://www.cbs.nl/nl-nl/over-ons/innovatie/project/vroege-loopbaan-van-jongeren-op-een-nieuwe-manier-in-kaart-gebracht', headers=headers)\n",
    "soup1 = BeautifulSoup(r1.text, 'lxml')\n",
    "# Using find/find_all:\n",
    "#par = soup1.find('article').find('p')\n",
    "# Using a css selector:\n",
    "par = soup1.select('article p')[0]\n",
    "print(par)"
   ]
  },
  {
   "cell_type": "code",
   "execution_count": null,
   "metadata": {},
   "outputs": [],
   "source": [
    "# Then loop through all articles\n",
    "# Using find/find_all:\n",
    "for a in soup.find_all(\"a\", class_=\"thumbnail\"):\n",
    "# Using a css selector:\n",
    "#for a in soup.select('a.thumbnail'):\n",
    "    link = a['href']\n",
    "    print(link)\n",
    "    r1 = requests.get(link, headers=headers)\n",
    "    s = BeautifulSoup(r1.text, 'lxml')\n",
    "    \n",
    "    # Using find/find_all:\n",
    "    #par = soup1.find('article').find('p')\n",
    "    # Using a css selector:\n",
    "    par = soup1.select('article p')[0]\n",
    "    print(par)\n",
    "    \n",
    "    #break\n",
    "    print('********************')\n",
    "    \n",
    "    time.sleep(1)"
   ]
  },
  {
   "cell_type": "markdown",
   "metadata": {},
   "source": [
    "- Option: retrieve all urls to images in all innovation articles and show them "
   ]
  },
  {
   "cell_type": "code",
   "execution_count": null,
   "metadata": {},
   "outputs": [],
   "source": [
    "# Using find/find_all:\n",
    "for a in soup.find_all(\"a\", class_=\"thumbnail\"):\n",
    "# Using a css selector:\n",
    "#for a in soup.select('a.thumbnail'):\n",
    "    link = a['href']\n",
    "    print(link)\n",
    "    \n",
    "    r1 = requests.get(link, headers=headers)\n",
    "    #print(r1.status_code)\n",
    "    soup1 = BeautifulSoup(r1.text, 'lxml')\n",
    "    \n",
    "    # Using find/find_all:\n",
    "    images = soup1.find('article').find('section').find_all('img')\n",
    "    # Using a css selector:\n",
    "    #images = soup1.select('article section')[0].select('img')\n",
    "    #images = article.select('img')\n",
    "   \n",
    "    # these img paths are relative, so prepend with https://www.cbs.nl \n",
    "    for img in images:\n",
    "        print('https://www.cbs.nl'+img['src'])\n",
    "    \n",
    "    #break\n",
    "    print('********************')\n",
    "    \n",
    "    time.sleep(1)"
   ]
  },
  {
   "cell_type": "code",
   "execution_count": null,
   "metadata": {},
   "outputs": [],
   "source": []
  }
 ],
 "metadata": {
  "kernelspec": {
   "display_name": "Python 3 (ipykernel)",
   "language": "python",
   "name": "python3"
  },
  "language_info": {
   "codemirror_mode": {
    "name": "ipython",
    "version": 3
   },
   "file_extension": ".py",
   "mimetype": "text/x-python",
   "name": "python",
   "nbconvert_exporter": "python",
   "pygments_lexer": "ipython3",
   "version": "3.10.9"
  }
 },
 "nbformat": 4,
 "nbformat_minor": 2
}
